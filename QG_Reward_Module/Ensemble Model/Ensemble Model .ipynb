{
  "nbformat": 4,
  "nbformat_minor": 0,
  "metadata": {
    "colab": {
      "provenance": [],
      "gpuType": "T4",
      "authorship_tag": "ABX9TyNQNOG28/l9bZ/OxaHZUlMQ",
      "include_colab_link": true
    },
    "kernelspec": {
      "name": "python3",
      "display_name": "Python 3"
    },
    "language_info": {
      "name": "python"
    },
    "accelerator": "GPU"
  },
  "cells": [
    {
      "cell_type": "markdown",
      "metadata": {
        "id": "view-in-github",
        "colab_type": "text"
      },
      "source": [
        "<a href=\"https://colab.research.google.com/github/Sakuni-Weerasinghe/Automatic-Question-and-Answer-Generation-based-on-Large-Language-Models/blob/master/Ensemble%20Model%20.ipynb\" target=\"_parent\"><img src=\"https://colab.research.google.com/assets/colab-badge.svg\" alt=\"Open In Colab\"/></a>"
      ]
    },
    {
      "cell_type": "code",
      "source": [
        "!pip install transformers\n",
        "!pip install pytorch-lightning"
      ],
      "metadata": {
        "id": "3Oi9QrXYqcVm"
      },
      "execution_count": null,
      "outputs": []
    },
    {
      "cell_type": "code",
      "source": [
        "import os\n",
        "\n",
        "# Update paths as needed\n",
        "DATAHOME = \"/content/datasets\"\n",
        "EXEHOME = \"/content/src\"\n",
        "MODELHOME = \"/content/models/ensemble\"\n",
        "LOGHOME = \"/content/models/ensemble/logs\"\n",
        "RLMODELHOME= \"/discriminators/models\"\n",
        "\n",
        "# Make directories\n",
        "os.makedirs(MODELHOME, exist_ok=True)\n",
        "os.makedirs(LOGHOME, exist_ok=True)\n",
        "\n",
        "# Change directory\n",
        "os.chdir(EXEHOME)\n",
        "\n",
        "# Set CUDA_VISIBLE_DEVICES\n",
        "os.environ[\"CUDA_VISIBLE_DEVICES\"] = \"0,1\"\n",
        "\n",
        "!python train.py \\\n",
        "       -gpus 0 -rl_gpu 1 1 1 \\\n",
        "       -data ${DATAHOME}/process/basic_cased_data_64.pt \\\n",
        "       -checkpoint ${HOME}/models/baseline/baseline_cased.chkpt \\\n",
        "       -rl fluency relevance answerability \\\n",
        "       -rl_model_dir ${RLMODELHOME}/fluency ${RLMODELHOME}/relevance ${RLMODELHOME}/answerability \\\n",
        "       -epoch 100 -batch_size 64 -eval_batch_size 32 \\\n",
        "       -max_token_src_len 256 -max_token_tgt_len 64 \\\n",
        "       -copy -coverage -coverage_weight 0.4 \\\n",
        "       -d_word_vec 300 \\\n",
        "       -d_enc_model 512 -n_enc_layer 1 -brnn -enc_rnn gru \\\n",
        "       -d_dec_model 512 -n_dec_layer 1 -dec_rnn gru -d_k 64 \\\n",
        "       -maxout_pool_size 2 -n_warmup_steps 10000 \\\n",
        "       -dropout 0.3 -attn_dropout 0.1 \\\n",
        "       -save_mode best -save_model ${MODELHOME}/ensemble \\\n",
        "       -logfile_train ${LOGHOME}/ensemble.train \\\n",
        "       -logfile_dev ${LOGHOME}/ensemble.dev \\\n",
        "       -log_home ${LOGHOME} \\\n",
        "       -translate_ppl 20 \\\n",
        "       -curriculum 0  -extra_shuffle -optim adam -learning_rate 0.00001 -learning_rate_decay 0.75 \\\n",
        "       -valid_steps 250 -decay_steps 250 -start_decay_steps 5000 -decay_bad_cnt 5 -max_grad_norm 5 -max_weight_value 32\n",
        "\n",
        "       # !/bin/bash\n"
      ],
      "metadata": {
        "id": "9mmpJZVmqjyF"
      },
      "execution_count": null,
      "outputs": []
    }
  ]
}