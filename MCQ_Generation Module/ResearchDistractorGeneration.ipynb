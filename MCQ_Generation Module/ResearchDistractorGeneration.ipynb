{
  "nbformat": 4,
  "nbformat_minor": 0,
  "metadata": {
    "colab": {
      "provenance": [],
      "gpuType": "T4",
      "authorship_tag": "ABX9TyOOAAI3dFsUbqttbOARQkFi",
      "include_colab_link": true
    },
    "kernelspec": {
      "name": "python3",
      "display_name": "Python 3"
    },
    "language_info": {
      "name": "python"
    },
    "accelerator": "GPU",
    "widgets": {
      "application/vnd.jupyter.widget-state+json": {
        "5d58157c1b8743328a4c959e7ef0489c": {
          "model_module": "@jupyter-widgets/controls",
          "model_name": "HBoxModel",
          "model_module_version": "1.5.0",
          "state": {
            "_dom_classes": [],
            "_model_module": "@jupyter-widgets/controls",
            "_model_module_version": "1.5.0",
            "_model_name": "HBoxModel",
            "_view_count": null,
            "_view_module": "@jupyter-widgets/controls",
            "_view_module_version": "1.5.0",
            "_view_name": "HBoxView",
            "box_style": "",
            "children": [
              "IPY_MODEL_d3c81d175c87487bbe444b56493152f3",
              "IPY_MODEL_d97f53b90fdf43f8b096885db92e60c4",
              "IPY_MODEL_4420cafaa4054d489b0d1bf11b9caefc"
            ],
            "layout": "IPY_MODEL_0568697601314df48980cad101651307"
          }
        },
        "d3c81d175c87487bbe444b56493152f3": {
          "model_module": "@jupyter-widgets/controls",
          "model_name": "HTMLModel",
          "model_module_version": "1.5.0",
          "state": {
            "_dom_classes": [],
            "_model_module": "@jupyter-widgets/controls",
            "_model_module_version": "1.5.0",
            "_model_name": "HTMLModel",
            "_view_count": null,
            "_view_module": "@jupyter-widgets/controls",
            "_view_module_version": "1.5.0",
            "_view_name": "HTMLView",
            "description": "",
            "description_tooltip": null,
            "layout": "IPY_MODEL_736e6f777762474c8d9331275e7c6649",
            "placeholder": "​",
            "style": "IPY_MODEL_e316b07563e64be2a439898bedf50e99",
            "value": "100%"
          }
        },
        "d97f53b90fdf43f8b096885db92e60c4": {
          "model_module": "@jupyter-widgets/controls",
          "model_name": "FloatProgressModel",
          "model_module_version": "1.5.0",
          "state": {
            "_dom_classes": [],
            "_model_module": "@jupyter-widgets/controls",
            "_model_module_version": "1.5.0",
            "_model_name": "FloatProgressModel",
            "_view_count": null,
            "_view_module": "@jupyter-widgets/controls",
            "_view_module_version": "1.5.0",
            "_view_name": "ProgressView",
            "bar_style": "success",
            "description": "",
            "description_tooltip": null,
            "layout": "IPY_MODEL_144a0636e8b54153a9304d9e1f436236",
            "max": 190,
            "min": 0,
            "orientation": "horizontal",
            "style": "IPY_MODEL_0494869c23774965abb144b45ac4e930",
            "value": 190
          }
        },
        "4420cafaa4054d489b0d1bf11b9caefc": {
          "model_module": "@jupyter-widgets/controls",
          "model_name": "HTMLModel",
          "model_module_version": "1.5.0",
          "state": {
            "_dom_classes": [],
            "_model_module": "@jupyter-widgets/controls",
            "_model_module_version": "1.5.0",
            "_model_name": "HTMLModel",
            "_view_count": null,
            "_view_module": "@jupyter-widgets/controls",
            "_view_module_version": "1.5.0",
            "_view_name": "HTMLView",
            "description": "",
            "description_tooltip": null,
            "layout": "IPY_MODEL_e8f9d226ac8f444db8c37062b4b4222e",
            "placeholder": "​",
            "style": "IPY_MODEL_9715c6253dbc4d67bfb98c8cdc8cabd9",
            "value": " 190/190 [01:50&lt;00:00,  1.83it/s]"
          }
        },
        "0568697601314df48980cad101651307": {
          "model_module": "@jupyter-widgets/base",
          "model_name": "LayoutModel",
          "model_module_version": "1.2.0",
          "state": {
            "_model_module": "@jupyter-widgets/base",
            "_model_module_version": "1.2.0",
            "_model_name": "LayoutModel",
            "_view_count": null,
            "_view_module": "@jupyter-widgets/base",
            "_view_module_version": "1.2.0",
            "_view_name": "LayoutView",
            "align_content": null,
            "align_items": null,
            "align_self": null,
            "border": null,
            "bottom": null,
            "display": null,
            "flex": null,
            "flex_flow": null,
            "grid_area": null,
            "grid_auto_columns": null,
            "grid_auto_flow": null,
            "grid_auto_rows": null,
            "grid_column": null,
            "grid_gap": null,
            "grid_row": null,
            "grid_template_areas": null,
            "grid_template_columns": null,
            "grid_template_rows": null,
            "height": null,
            "justify_content": null,
            "justify_items": null,
            "left": null,
            "margin": null,
            "max_height": null,
            "max_width": null,
            "min_height": null,
            "min_width": null,
            "object_fit": null,
            "object_position": null,
            "order": null,
            "overflow": null,
            "overflow_x": null,
            "overflow_y": null,
            "padding": null,
            "right": null,
            "top": null,
            "visibility": null,
            "width": null
          }
        },
        "736e6f777762474c8d9331275e7c6649": {
          "model_module": "@jupyter-widgets/base",
          "model_name": "LayoutModel",
          "model_module_version": "1.2.0",
          "state": {
            "_model_module": "@jupyter-widgets/base",
            "_model_module_version": "1.2.0",
            "_model_name": "LayoutModel",
            "_view_count": null,
            "_view_module": "@jupyter-widgets/base",
            "_view_module_version": "1.2.0",
            "_view_name": "LayoutView",
            "align_content": null,
            "align_items": null,
            "align_self": null,
            "border": null,
            "bottom": null,
            "display": null,
            "flex": null,
            "flex_flow": null,
            "grid_area": null,
            "grid_auto_columns": null,
            "grid_auto_flow": null,
            "grid_auto_rows": null,
            "grid_column": null,
            "grid_gap": null,
            "grid_row": null,
            "grid_template_areas": null,
            "grid_template_columns": null,
            "grid_template_rows": null,
            "height": null,
            "justify_content": null,
            "justify_items": null,
            "left": null,
            "margin": null,
            "max_height": null,
            "max_width": null,
            "min_height": null,
            "min_width": null,
            "object_fit": null,
            "object_position": null,
            "order": null,
            "overflow": null,
            "overflow_x": null,
            "overflow_y": null,
            "padding": null,
            "right": null,
            "top": null,
            "visibility": null,
            "width": null
          }
        },
        "e316b07563e64be2a439898bedf50e99": {
          "model_module": "@jupyter-widgets/controls",
          "model_name": "DescriptionStyleModel",
          "model_module_version": "1.5.0",
          "state": {
            "_model_module": "@jupyter-widgets/controls",
            "_model_module_version": "1.5.0",
            "_model_name": "DescriptionStyleModel",
            "_view_count": null,
            "_view_module": "@jupyter-widgets/base",
            "_view_module_version": "1.2.0",
            "_view_name": "StyleView",
            "description_width": ""
          }
        },
        "144a0636e8b54153a9304d9e1f436236": {
          "model_module": "@jupyter-widgets/base",
          "model_name": "LayoutModel",
          "model_module_version": "1.2.0",
          "state": {
            "_model_module": "@jupyter-widgets/base",
            "_model_module_version": "1.2.0",
            "_model_name": "LayoutModel",
            "_view_count": null,
            "_view_module": "@jupyter-widgets/base",
            "_view_module_version": "1.2.0",
            "_view_name": "LayoutView",
            "align_content": null,
            "align_items": null,
            "align_self": null,
            "border": null,
            "bottom": null,
            "display": null,
            "flex": null,
            "flex_flow": null,
            "grid_area": null,
            "grid_auto_columns": null,
            "grid_auto_flow": null,
            "grid_auto_rows": null,
            "grid_column": null,
            "grid_gap": null,
            "grid_row": null,
            "grid_template_areas": null,
            "grid_template_columns": null,
            "grid_template_rows": null,
            "height": null,
            "justify_content": null,
            "justify_items": null,
            "left": null,
            "margin": null,
            "max_height": null,
            "max_width": null,
            "min_height": null,
            "min_width": null,
            "object_fit": null,
            "object_position": null,
            "order": null,
            "overflow": null,
            "overflow_x": null,
            "overflow_y": null,
            "padding": null,
            "right": null,
            "top": null,
            "visibility": null,
            "width": null
          }
        },
        "0494869c23774965abb144b45ac4e930": {
          "model_module": "@jupyter-widgets/controls",
          "model_name": "ProgressStyleModel",
          "model_module_version": "1.5.0",
          "state": {
            "_model_module": "@jupyter-widgets/controls",
            "_model_module_version": "1.5.0",
            "_model_name": "ProgressStyleModel",
            "_view_count": null,
            "_view_module": "@jupyter-widgets/base",
            "_view_module_version": "1.2.0",
            "_view_name": "StyleView",
            "bar_color": null,
            "description_width": ""
          }
        },
        "e8f9d226ac8f444db8c37062b4b4222e": {
          "model_module": "@jupyter-widgets/base",
          "model_name": "LayoutModel",
          "model_module_version": "1.2.0",
          "state": {
            "_model_module": "@jupyter-widgets/base",
            "_model_module_version": "1.2.0",
            "_model_name": "LayoutModel",
            "_view_count": null,
            "_view_module": "@jupyter-widgets/base",
            "_view_module_version": "1.2.0",
            "_view_name": "LayoutView",
            "align_content": null,
            "align_items": null,
            "align_self": null,
            "border": null,
            "bottom": null,
            "display": null,
            "flex": null,
            "flex_flow": null,
            "grid_area": null,
            "grid_auto_columns": null,
            "grid_auto_flow": null,
            "grid_auto_rows": null,
            "grid_column": null,
            "grid_gap": null,
            "grid_row": null,
            "grid_template_areas": null,
            "grid_template_columns": null,
            "grid_template_rows": null,
            "height": null,
            "justify_content": null,
            "justify_items": null,
            "left": null,
            "margin": null,
            "max_height": null,
            "max_width": null,
            "min_height": null,
            "min_width": null,
            "object_fit": null,
            "object_position": null,
            "order": null,
            "overflow": null,
            "overflow_x": null,
            "overflow_y": null,
            "padding": null,
            "right": null,
            "top": null,
            "visibility": null,
            "width": null
          }
        },
        "9715c6253dbc4d67bfb98c8cdc8cabd9": {
          "model_module": "@jupyter-widgets/controls",
          "model_name": "DescriptionStyleModel",
          "model_module_version": "1.5.0",
          "state": {
            "_model_module": "@jupyter-widgets/controls",
            "_model_module_version": "1.5.0",
            "_model_name": "DescriptionStyleModel",
            "_view_count": null,
            "_view_module": "@jupyter-widgets/base",
            "_view_module_version": "1.2.0",
            "_view_name": "StyleView",
            "description_width": ""
          }
        }
      }
    }
  },
  "cells": [
    {
      "cell_type": "markdown",
      "metadata": {
        "id": "view-in-github",
        "colab_type": "text"
      },
      "source": [
        "<a href=\"https://colab.research.google.com/github/Sakuni-Weerasinghe/Automatic-Question-and-Answer-Generation-based-on-Large-Language-Models/blob/master/ResearchDistractorGeneration.ipynb\" target=\"_parent\"><img src=\"https://colab.research.google.com/assets/colab-badge.svg\" alt=\"Open In Colab\"/></a>"
      ]
    },
    {
      "cell_type": "code",
      "source": [
        "!pip install transformers\n",
        "!pip install tokenizers\n",
        "!pip install pytorch-lightning"
      ],
      "metadata": {
        "id": "i0gjxapefq_P"
      },
      "execution_count": null,
      "outputs": []
    },
    {
      "cell_type": "code",
      "source": [
        "# Import packages\n",
        "from typing import List, Dict\n",
        "import tqdm.notebook as tq\n",
        "from tqdm.notebook import tqdm\n",
        "import json\n",
        "import pandas as pd\n",
        "import numpy as np\n",
        "\n",
        "import torch\n",
        "from pathlib import Path\n",
        "from torch.utils.data import Dataset, DataLoader\n",
        "import pytorch_lightning as pl\n",
        "from pytorch_lightning.callbacks import ModelCheckpoint\n",
        "from sklearn.model_selection import train_test_split\n",
        "from transformers import (\n",
        "    AdamW,\n",
        "    T5ForConditionalGeneration,\n",
        "    T5TokenizerFast as T5Tokenizer\n",
        "    )\n",
        "import os"
      ],
      "metadata": {
        "id": "4T76SsrZ0o7A"
      },
      "execution_count": null,
      "outputs": []
    },
    {
      "cell_type": "code",
      "source": [
        "def parse_json(filepath):\n",
        "    data = []\n",
        "\n",
        "    with open(filepath) as file:\n",
        "        data = json.load(file)\n",
        "\n",
        "    return data"
      ],
      "metadata": {
        "id": "Ks8GywwTZrr-"
      },
      "execution_count": null,
      "outputs": []
    },
    {
      "cell_type": "code",
      "source": [
        "def extract_from_my_dataset(data):\n",
        "    topics = []\n",
        "    sub_topics = []\n",
        "    contexts = []\n",
        "    questions = []\n",
        "    correct_answers = []\n",
        "    options1 = []  # Renamed option1\n",
        "    options2 = []  # Renamed option2\n",
        "    options3 = []  # Renamed option3\n",
        "    options4 = []  # Renamed option4\n",
        "\n",
        "    for topic in data:\n",
        "        topic_name = topic.get(\"topic\", \"\")\n",
        "        sub_topic_name = topic.get(\"sub-topic\", \"\")\n",
        "        context = topic.get(\"context\", \"\")\n",
        "        topic_questions = topic.get(\"questions\", [])\n",
        "\n",
        "        for qna_set in topic_questions:\n",
        "            question = qna_set.get(\"question\", \"\")\n",
        "            correct_answer = qna_set.get(\"correct_answer\", \"\")\n",
        "            option_1 = qna_set.get(\"option1\", \"\")  # Renamed option1\n",
        "            option_2 = qna_set.get(\"option2\", \"\")  # Renamed option2\n",
        "            option_3 = qna_set.get(\"option3\", \"\")  # Renamed option3\n",
        "            option_4 = qna_set.get(\"option4\", \"\")  # Renamed option4\n",
        "\n",
        "            topics.append(topic_name)\n",
        "            sub_topics.append(sub_topic_name)\n",
        "            contexts.append(context)\n",
        "            questions.append(question)\n",
        "            correct_answers.append(correct_answer)\n",
        "            options1.append(option_1)  # Appended to options1\n",
        "            options2.append(option_2)  # Appended to options2\n",
        "            options3.append(option_3)  # Appended to options3\n",
        "            options4.append(option_4)  # Appended to options4\n",
        "\n",
        "    return topics, sub_topics, contexts, questions, correct_answers, options1, options2, options3, options4"
      ],
      "metadata": {
        "id": "uX_dllwSZvyQ"
      },
      "execution_count": null,
      "outputs": []
    },
    {
      "cell_type": "code",
      "source": [
        "data = parse_json(\"data.json\")  # Replace with your actual dataset\n",
        "\n",
        "topics, sub_topics, contexts, questions, correct_answers, option1,option2,option3,option4 = extract_from_my_dataset(data)\n",
        "\n",
        "# Get the lengths of the extracted lists\n",
        "num_topics = len(topics)\n",
        "num_sub_topics = len(sub_topics)\n",
        "num_contexts = len(contexts)\n",
        "num_questions = len(questions)\n",
        "num_correct_answers = len(correct_answers)\n",
        "num_option1 = len(option1)\n",
        "num_option2 = len(option2)\n",
        "num_option3 = len(option3)\n",
        "num_option4 = len(option4)\n"
      ],
      "metadata": {
        "id": "szZ_wWUIf3oh"
      },
      "execution_count": null,
      "outputs": []
    },
    {
      "cell_type": "code",
      "source": [
        "# Create a DataFrame based on your extracted data\n",
        "my_dataset_df = pd.DataFrame({\n",
        "    'topic': topics,\n",
        "    'sub_topic': sub_topics,\n",
        "    'context': contexts,\n",
        "    'question': questions,\n",
        "    'correct_answer': correct_answers,\n",
        "    'option1': option1,\n",
        "    'option2': option2,\n",
        "    'option3': option3,\n",
        "    'option4': option4\n",
        "})"
      ],
      "metadata": {
        "id": "ul5Aw5ilaYLg"
      },
      "execution_count": null,
      "outputs": []
    },
    {
      "cell_type": "code",
      "source": [
        "# Split the data into train, test, and validation sets\n",
        "train, test = train_test_split(my_dataset_df, test_size=0.2, random_state=42)\n",
        "train, val = train_test_split(train, test_size=0.2, random_state=42)\n",
        "\n",
        "print(train.shape)\n",
        "print(test.shape)\n",
        "print(val.shape)\n",
        "# Now, you have train, test, and val DataFrames to work with"
      ],
      "metadata": {
        "colab": {
          "base_uri": "https://localhost:8080/"
        },
        "id": "0AwvvwaUaQdo",
        "outputId": "4e31ec64-9989-4f27-e073-9205144cbc72"
      },
      "execution_count": null,
      "outputs": [
        {
          "output_type": "stream",
          "name": "stdout",
          "text": [
            "(606, 9)\n",
            "(190, 9)\n",
            "(152, 9)\n"
          ]
        }
      ]
    },
    {
      "cell_type": "code",
      "source": [
        "\n",
        "train.to_csv(\"train.csv\", index=False)\n",
        "test.to_csv(\"test.csv\", index=False)\n",
        "val.to_csv(\"val.csv\", index=False)\n",
        "\n",
        "#!mv train.csv test.csv val.csv drive/MyDrive/Research/QG/DataSet"
      ],
      "metadata": {
        "id": "MXH-4Jaqa7ex"
      },
      "execution_count": null,
      "outputs": []
    },
    {
      "cell_type": "markdown",
      "source": [
        "Extract data from json"
      ],
      "metadata": {
        "id": "z-52b9kj1GWp"
      }
    },
    {
      "cell_type": "markdown",
      "source": [
        "Export as *.csv and upload to GDrive"
      ],
      "metadata": {
        "id": "1510BLir5FVG"
      }
    },
    {
      "cell_type": "code",
      "source": [
        "from google.colab import drive\n",
        "drive.mount('/content/drive',force_remount=True)"
      ],
      "metadata": {
        "id": "-iwrWA9bgEA5"
      },
      "execution_count": null,
      "outputs": []
    },
    {
      "cell_type": "code",
      "source": [
        "#https://drive.google.com/file/d/18la5JXgyjAN2ww3_BP3NdBnXodU5X_li/view?usp=sharing\n",
        "#https://drive.google.com/file/d/1Jobp--lSRr1mn0me4YOUg0o3B58YksPI/view?usp=sharing\n",
        "#https://drive.google.com/file/d/1CCpBCvLCRusytxrA9hUdew0KaIwUptE_/view?usp=sharing\n",
        "\n",
        "!gdown --id 1ggZqb_jCmq12gwmfBBQhOWUV4dN00S-o #train.csv\n",
        "!gdown --id 1VrBghMWob_-mTz0sB5B8KLkq0MgdRrC9 #test.csv\n",
        "!gdown --id 192ibBUshejWnZm3vepWNMi-9kn5GypiD #val.csv"
      ],
      "metadata": {
        "id": "OhAjqYaxgIKX"
      },
      "execution_count": null,
      "outputs": []
    },
    {
      "cell_type": "code",
      "source": [
        "train_dataset = pd.read_csv('train.csv')\n",
        "test_dataset = pd.read_csv('test.csv')\n",
        "val_dataset = pd.read_csv('val.csv')"
      ],
      "metadata": {
        "id": "qljmECDR5wII"
      },
      "execution_count": null,
      "outputs": []
    },
    {
      "cell_type": "code",
      "source": [
        "print(train_dataset.shape,'train_dataset')\n",
        "print(test_dataset.shape, 'test_dataset')\n",
        "print(val_dataset.shape, 'val_dataset')"
      ],
      "metadata": {
        "colab": {
          "base_uri": "https://localhost:8080/"
        },
        "id": "p_bBm_zP51ab",
        "outputId": "a26b8ef0-38c6-455b-e26b-fefdee9af80e"
      },
      "execution_count": null,
      "outputs": [
        {
          "output_type": "stream",
          "name": "stdout",
          "text": [
            "(606, 9) train_dataset\n",
            "(190, 9) test_dataset\n",
            "(152, 9) val_dataset\n"
          ]
        }
      ]
    },
    {
      "cell_type": "code",
      "source": [
        "train_dataset = pd.read_csv('train.csv')\n",
        "test_dataset = pd.read_csv('test.csv')\n",
        "val_dataset = pd.read_csv('val.csv')"
      ],
      "metadata": {
        "id": "QmOayyN27Fm7"
      },
      "execution_count": null,
      "outputs": []
    },
    {
      "cell_type": "code",
      "source": [
        "tokenizer = T5Tokenizer.from_pretrained(\"t5-base\")"
      ],
      "metadata": {
        "id": "h5Gj8No0gPQl"
      },
      "execution_count": null,
      "outputs": []
    },
    {
      "cell_type": "code",
      "source": [
        "context_token_lens = []\n",
        "question_token_lens = []\n",
        "answer_token_lens = []\n",
        "incorrect_token_lens = []\n",
        "\n",
        "for i in tq.tqdm(range(len(train_dataset))):\n",
        "    context_token_lens.append(len(tokenizer(train_dataset.iloc[i]['context'])['input_ids']))\n",
        "    question_token_lens.append(len(tokenizer(train_dataset.iloc[i]['question'])['input_ids']))\n",
        "    answer_token_lens.append(len(tokenizer(train_dataset.iloc[i]['correct_answer'])['input_ids']))\n",
        "    incorrect_token_lens.append(len(tokenizer(\n",
        "        str(train_dataset.iloc[i]['option1']) +\n",
        "        str(train_dataset.iloc[i]['option2']) +\n",
        "        str(train_dataset.iloc[i]['option3']) +\n",
        "        str(train_dataset.iloc[i]['option4']))['input_ids']))\n",
        "\n",
        "for i in tq.tqdm(range(len(test_dataset))):\n",
        "    context_token_lens.append(len(tokenizer(test_dataset.iloc[i]['context'])['input_ids']))\n",
        "    question_token_lens.append(len(tokenizer(test_dataset.iloc[i]['question'])['input_ids']))\n",
        "    answer_token_lens.append(len(tokenizer(test_dataset.iloc[i]['correct_answer'])['input_ids']))\n",
        "    incorrect_token_lens.append(len(tokenizer(\n",
        "        str(test_dataset.iloc[i]['option1'] )+\n",
        "        str(test_dataset.iloc[i]['option2'] )+\n",
        "        str(test_dataset.iloc[i]['option3'] )+\n",
        "        str(test_dataset.iloc[i]['option4']))['input_ids']))\n",
        "\n",
        "\n",
        "for i in tq.tqdm(range(len(val_dataset))):\n",
        "    context_token_lens.append(len(tokenizer(val_dataset.iloc[i]['context'])['input_ids']))\n",
        "    question_token_lens.append(len(tokenizer(val_dataset.iloc[i]['question'])['input_ids']))\n",
        "    answer_token_lens.append(len(tokenizer(val_dataset.iloc[i]['correct_answer'])['input_ids']))\n",
        "    incorrect_token_lens.append(len(tokenizer(\n",
        "        str(val_dataset.iloc[i]['option1']) +\n",
        "        str(val_dataset.iloc[i]['option2']) +\n",
        "        str(val_dataset.iloc[i]['option3']) +\n",
        "        str(val_dataset.iloc[i]['option4']))['input_ids']))"
      ],
      "metadata": {
        "id": "NNhTKMnygUi-"
      },
      "execution_count": null,
      "outputs": []
    },
    {
      "cell_type": "markdown",
      "source": [
        "## PyTorch Lightning modules"
      ],
      "metadata": {
        "id": "vdNK6hAc_OX6"
      }
    },
    {
      "cell_type": "code",
      "source": [
        "SEP_TOKEN = '<sep>'"
      ],
      "metadata": {
        "id": "8MNgoFYv_PZT"
      },
      "execution_count": null,
      "outputs": []
    },
    {
      "cell_type": "code",
      "source": [
        "class QGDataset(Dataset):\n",
        "\n",
        "    def __init__(\n",
        "        self,\n",
        "        data: pd.DataFrame,\n",
        "        tokenizer: T5Tokenizer,\n",
        "        source_max_token_len: int,\n",
        "        target_max_token_len: int\n",
        "    ):\n",
        "\n",
        "        self.tokenizer = tokenizer\n",
        "        self.data = data.astype({\n",
        "            'correct_answer': str,\n",
        "            'question': str,\n",
        "            'context': str,\n",
        "            'option1': str,\n",
        "            'option2': str,\n",
        "            'option3': str,\n",
        "            'option4': str,\n",
        "        })  # Explicitly set the data types\n",
        "        self.source_max_token_len = source_max_token_len\n",
        "        self.target_max_token_len = target_max_token_len\n",
        "\n",
        "    def __len__(self):\n",
        "        return len(self.data)\n",
        "\n",
        "    def __getitem__(self, index: int):\n",
        "        data_row = self.data.iloc[index]\n",
        "\n",
        "        answer_encoding = self.tokenizer(\n",
        "            str(data_row['correct_answer']),  # Convert to string explicitly\n",
        "            max_length=self.target_max_token_len,\n",
        "            padding='max_length',\n",
        "            truncation=True,\n",
        "            return_attention_mask=True,\n",
        "            add_special_tokens=True,\n",
        "            return_tensors='pt'\n",
        "        )\n",
        "\n",
        "        question_encoding = self.tokenizer(\n",
        "            str(data_row['question']),  # Convert to string explicitly\n",
        "            max_length=self.target_max_token_len,\n",
        "            padding='max_length',\n",
        "            truncation=True,\n",
        "            return_attention_mask=True,\n",
        "            add_special_tokens=True,\n",
        "            return_tensors='pt'\n",
        "        )\n",
        "\n",
        "        context_encoding = self.tokenizer(\n",
        "            str(data_row['context']),  # Convert to string explicitly\n",
        "            max_length=self.source_max_token_len,\n",
        "            padding='max_length',\n",
        "            truncation=True,\n",
        "            return_attention_mask=True,\n",
        "            add_special_tokens=True,\n",
        "            return_tensors='pt'\n",
        "        )\n",
        "\n",
        "        options_encoding = self.tokenizer(\n",
        "            '{} {} {} {} {}'.format(str(data_row['option1']), str(data_row['option2']), str(data_row['option3']), str(data_row['option4']), SEP_TOKEN),\n",
        "            max_length=self.target_max_token_len,\n",
        "            padding='max_length',\n",
        "            truncation=True,\n",
        "            return_attention_mask=True,\n",
        "            add_special_tokens=True,\n",
        "            return_tensors='pt'\n",
        "        )\n",
        "\n",
        "        input_ids = torch.cat((answer_encoding['input_ids'], question_encoding['input_ids'], context_encoding['input_ids']), dim=-1).flatten()\n",
        "        attention_mask = torch.cat((answer_encoding['attention_mask'], question_encoding['attention_mask'], context_encoding['attention_mask']), dim=-1).flatten()\n",
        "\n",
        "        labels = options_encoding['input_ids']\n",
        "        labels[labels == 0] = -100\n",
        "\n",
        "        return dict(\n",
        "            answer_text=data_row['correct_answer'],\n",
        "            context=data_row['context'],\n",
        "            question=data_row['question'],\n",
        "            incorrect1=data_row['option1'],\n",
        "            incorrect2=data_row['option2'],\n",
        "            incorrect3=data_row['option3'],\n",
        "            incorrect4=data_row['option4'],\n",
        "            input_ids=input_ids,\n",
        "            attention_mask=attention_mask,\n",
        "            labels=labels.flatten().to(torch.long)\n",
        "        )\n",
        "\n"
      ],
      "metadata": {
        "id": "agVWBU4Z_bOF"
      },
      "execution_count": null,
      "outputs": []
    },
    {
      "cell_type": "code",
      "source": [
        "class QGDataModule(pl.LightningDataModule):\n",
        "\n",
        "    def __init__(\n",
        "        self,\n",
        "        train_dataset: pd.DataFrame,\n",
        "        val_dataset: pd.DataFrame,\n",
        "        test_dataset: pd.DataFrame,\n",
        "        tokenizer: T5Tokenizer,\n",
        "        batch_size,\n",
        "        source_max_token_len: int,\n",
        "        target_max_token_len: int\n",
        "        ):\n",
        "        super().__init__()\n",
        "        self.batch_size = batch_size\n",
        "        self.train_dataset = train_dataset\n",
        "        self.val_dataset = val_dataset\n",
        "        self.test_dataset = test_dataset\n",
        "        self.tokenizer = tokenizer\n",
        "        self.source_max_token_len = source_max_token_len\n",
        "        self.target_max_token_len = target_max_token_len\n",
        "\n",
        "    def setup(self,stage=None):\n",
        "        self.train_dataset_1 = QGDataset(self.train_dataset, self.tokenizer, self.source_max_token_len, self.target_max_token_len)\n",
        "        self.val_dataset_1 = QGDataset(self.val_dataset, self.tokenizer, self.source_max_token_len, self.target_max_token_len)\n",
        "        self.test_dataset_1 = QGDataset(self.test_dataset, self.tokenizer, self.source_max_token_len, self.target_max_token_len)\n",
        "\n",
        "    def train_dataloader(self):\n",
        "        return DataLoader(self.train_dataset_1, batch_size = self.batch_size, shuffle=True, num_workers = 2)\n",
        "\n",
        "    def val_dataloader(self):\n",
        "        return DataLoader(self.val_dataset_1, batch_size=1, num_workers=2)\n",
        "\n",
        "    def test_dataloader(self):\n",
        "        return DataLoader(self.test_dataset_1, batch_size=1, num_workers=2)"
      ],
      "metadata": {
        "id": "SxjsgLpoCNjN"
      },
      "execution_count": null,
      "outputs": []
    },
    {
      "cell_type": "markdown",
      "source": [
        "## Hyperparameters"
      ],
      "metadata": {
        "id": "EQZrxJarDpio"
      }
    },
    {
      "cell_type": "code",
      "source": [
        "# use t5-base models\n",
        "MODEL_NAME = 't5-small'\n",
        "SOURCE_MAX_TOKEN_LEN = 512\n",
        "TARGET_MAX_TOKEN_LEN = 64\n",
        "\n",
        "N_EPOCHS = 15\n",
        "BATCH_SIZE = 16\n",
        "LEARNING_RATE = 0.0001\n",
        "\n",
        "MODEL_SAVE_NAME = '100200'"
      ],
      "metadata": {
        "id": "9arW4NEmDqHK"
      },
      "execution_count": null,
      "outputs": []
    },
    {
      "cell_type": "code",
      "source": [
        "DF_TAKE_PERCENTAGE = 1\n",
        "\n",
        "TAKE_TRAIN = int(len(train_dataset) * DF_TAKE_PERCENTAGE)\n",
        "TAKE_VAL = int(len(val_dataset) * DF_TAKE_PERCENTAGE)\n",
        "TAKE_TEST = int(len(test_dataset) * DF_TAKE_PERCENTAGE)\n"
      ],
      "metadata": {
        "id": "54VjKU8dERNV"
      },
      "execution_count": null,
      "outputs": []
    },
    {
      "cell_type": "markdown",
      "source": [
        "### Initializing training module"
      ],
      "metadata": {
        "id": "3D_XisabEDTd"
      }
    },
    {
      "cell_type": "markdown",
      "source": [
        "####Setting DataModule"
      ],
      "metadata": {
        "id": "aH-6kUlaEHiR"
      }
    },
    {
      "cell_type": "code",
      "source": [
        "print(train_dataset[:TAKE_TRAIN].shape, val_dataset[:TAKE_VAL].shape, test_dataset[:TAKE_TEST].shape)\n",
        "\n",
        "tokenizer = T5Tokenizer.from_pretrained(MODEL_NAME)\n",
        "print('tokenizer len before: ', len(tokenizer))\n",
        "tokenizer.add_tokens(SEP_TOKEN)\n",
        "print('tokenizer len after: ', len(tokenizer))\n",
        "TOKENIZER_LEN = len(tokenizer)\n",
        "\n",
        "data_module = QGDataModule(\n",
        "    train_dataset[:TAKE_TRAIN],\n",
        "    val_dataset[:TAKE_VAL],\n",
        "    test_dataset[:TAKE_TEST],\n",
        "    tokenizer,\n",
        "    BATCH_SIZE,\n",
        "    SOURCE_MAX_TOKEN_LEN,\n",
        "    TARGET_MAX_TOKEN_LEN)\n",
        "\n",
        "data_module.setup()\n",
        "\n",
        "train_dataloader = data_module.train_dataloader()\n",
        "val_dataloader = data_module.val_dataloader()\n",
        "test_dataloader = data_module.test_dataloader()"
      ],
      "metadata": {
        "colab": {
          "base_uri": "https://localhost:8080/"
        },
        "id": "KWLPJOSmEIZH",
        "outputId": "2dce76e7-0d4d-4514-feef-27d1af96a6cc"
      },
      "execution_count": null,
      "outputs": [
        {
          "output_type": "stream",
          "name": "stdout",
          "text": [
            "(606, 9) (152, 9) (190, 9)\n",
            "tokenizer len before:  32100\n",
            "tokenizer len after:  32101\n"
          ]
        }
      ]
    },
    {
      "cell_type": "markdown",
      "source": [
        "#### Setting Model"
      ],
      "metadata": {
        "id": "nfr0XRY3EvM5"
      }
    },
    {
      "cell_type": "code",
      "source": [
        "class QGModel(pl.LightningModule):\n",
        "    def __init__(self):\n",
        "        super().__init__()\n",
        "        self.model = T5ForConditionalGeneration.from_pretrained(MODEL_NAME, return_dict=True)\n",
        "        self.model.resize_token_embeddings(TOKENIZER_LEN) #resizing after adding new tokens to the tokenizer\n",
        "\n",
        "    def forward(self, input_ids, attention_mask, labels=None):\n",
        "        output = self.model(input_ids=input_ids, attention_mask=attention_mask, labels=labels)\n",
        "        return output.loss, output.logits\n",
        "\n",
        "    def training_step(self, batch, batch_idx):\n",
        "        input_ids = batch['input_ids']\n",
        "        attention_mask = batch['attention_mask']\n",
        "        labels = batch['labels']\n",
        "        loss, output = self(input_ids, attention_mask, labels)\n",
        "        self.log('train_loss', loss, prog_bar=True, logger=True)\n",
        "        return loss\n",
        "\n",
        "    def validation_step(self, batch, batch_idx):\n",
        "        input_ids = batch['input_ids']\n",
        "        attention_mask = batch['attention_mask']\n",
        "        labels = batch['labels']\n",
        "        loss, output = self(input_ids, attention_mask, labels)\n",
        "        self.log('val_loss', loss, prog_bar=True, logger=True)\n",
        "        return loss\n",
        "\n",
        "    def test_step(self, batch, batch_idx):\n",
        "        input_ids = batch['input_ids']\n",
        "        attention_mask = batch['attention_mask']\n",
        "        labels = batch['labels']\n",
        "        loss, output = self(input_ids, attention_mask, labels)\n",
        "        self.log('test_loss', loss, prog_bar=True, logger=True)\n",
        "        return loss\n",
        "\n",
        "    def configure_optimizers(self):\n",
        "        return AdamW(self.parameters(), lr=LEARNING_RATE)"
      ],
      "metadata": {
        "id": "Hr6gWI5oEEBm"
      },
      "execution_count": null,
      "outputs": []
    },
    {
      "cell_type": "code",
      "source": [
        "checkpoint_callback = ModelCheckpoint(\n",
        "    dirpath='checkpoints',\n",
        "    filename='best-checkpoint',\n",
        "    save_top_k=-1,\n",
        "    verbose=True,\n",
        "    monitor='val_loss',\n",
        "    mode='min'\n",
        "    )\n",
        "\n",
        "trainer = pl.Trainer(\n",
        "    callbacks=[checkpoint_callback],\n",
        "    max_epochs=N_EPOCHS,\n",
        "    devices=1,\n",
        "    )"
      ],
      "metadata": {
        "id": "K3t68Q8ug0Wc"
      },
      "execution_count": null,
      "outputs": []
    },
    {
      "cell_type": "markdown",
      "source": [
        "## Training"
      ],
      "metadata": {
        "id": "HzEZ554DGqae"
      }
    },
    {
      "cell_type": "code",
      "source": [
        "%load_ext tensorboard"
      ],
      "metadata": {
        "id": "YNgBTTONGrUa",
        "colab": {
          "base_uri": "https://localhost:8080/"
        },
        "outputId": "f92e9f92-c718-401f-fabd-0db22f5703f8"
      },
      "execution_count": null,
      "outputs": [
        {
          "output_type": "stream",
          "name": "stdout",
          "text": [
            "The tensorboard extension is already loaded. To reload it, use:\n",
            "  %reload_ext tensorboard\n"
          ]
        }
      ]
    },
    {
      "cell_type": "code",
      "source": [
        "%tensorboard --logdir ./lightning_logs"
      ],
      "metadata": {
        "id": "wIlQAVB6g7TZ"
      },
      "execution_count": null,
      "outputs": []
    },
    {
      "cell_type": "code",
      "source": [
        "model = QGModel()\n",
        "# model = QGModel.load_from_checkpoint('checkpoints/best-checkpoint-v42.ckpt')\n",
        "\n",
        "trainer.fit(model, data_module)\n",
        "trainer.test(model, data_module)"
      ],
      "metadata": {
        "id": "irZjU433g90j"
      },
      "execution_count": null,
      "outputs": []
    },
    {
      "cell_type": "markdown",
      "source": [
        "### Load model"
      ],
      "metadata": {
        "id": "PqEHKQAViAS7"
      }
    },
    {
      "cell_type": "code",
      "source": [
        "checkpoint_path = 'checkpoints/best-checkpoint-v14.ckpt'\n",
        "\n",
        "best_model = QGModel.load_from_checkpoint(checkpoint_path)\n",
        "best_model.freeze()\n",
        "best_model.eval()\n",
        "\n",
        "print()"
      ],
      "metadata": {
        "colab": {
          "base_uri": "https://localhost:8080/"
        },
        "id": "tsMLInYViFKA",
        "outputId": "93c67773-9ea0-4842-ff13-2abaac0f6881"
      },
      "execution_count": null,
      "outputs": [
        {
          "output_type": "stream",
          "name": "stdout",
          "text": [
            "\n"
          ]
        }
      ]
    },
    {
      "cell_type": "markdown",
      "source": [
        "### Common functions"
      ],
      "metadata": {
        "id": "qi3KiEtfiT0-"
      }
    },
    {
      "cell_type": "markdown",
      "source": [
        "### View results manually"
      ],
      "metadata": {
        "id": "shsLDWDqijp4"
      }
    },
    {
      "cell_type": "markdown",
      "source": [
        "### Common functions"
      ],
      "metadata": {
        "id": "_prx6r2ds7fM"
      }
    },
    {
      "cell_type": "code",
      "source": [
        "def generate(qgmodel: QGModel, correct: str, question: str, context: str) -> str:\n",
        "    source_encoding = tokenizer(\n",
        "        '{} {} {} {} {}'.format(correct, SEP_TOKEN, question, SEP_TOKEN, context),\n",
        "        max_length= SOURCE_MAX_TOKEN_LEN,\n",
        "        padding='max_length',\n",
        "        truncation= True,\n",
        "        return_attention_mask=True,\n",
        "        add_special_tokens=True,\n",
        "        return_tensors='pt'\n",
        "        )\n",
        "\n",
        "    generated_ids = qgmodel.model.generate(\n",
        "        input_ids=source_encoding['input_ids'].to('cuda'),\n",
        "        attention_mask=source_encoding['attention_mask'].to('cuda'),\n",
        "        num_beams=1,\n",
        "        max_length=TARGET_MAX_TOKEN_LEN,\n",
        "        repetition_penalty=2.5,\n",
        "        length_penalty=1.0,\n",
        "        early_stopping=True,\n",
        "        use_cache=True\n",
        "    )\n",
        "\n",
        "    preds = {\n",
        "        tokenizer.decode(generated_id, skip_special_tokens=False, clean_up_tokenization_spaces=True)\n",
        "        for generated_id in generated_ids\n",
        "    }\n",
        "\n",
        "    return ''.join(preds)"
      ],
      "metadata": {
        "id": "5J19ph6Qig8l"
      },
      "execution_count": null,
      "outputs": []
    },
    {
      "cell_type": "code",
      "source": [
        "from typing import List\n",
        "import nltk\n",
        "from nltk.tokenize import word_tokenize\n",
        "#nltk.download('punkt')\n",
        "from nltk.translate.bleu_score import sentence_bleu\n",
        "from nltk.translate.bleu_score import SmoothingFunction\n",
        "\n",
        "def calculate_nltk_bleu_single(references: List[str], hypothesis: str):\n",
        "\n",
        "    if hypothesis == '':\n",
        "        return 0, 0, 0, 0\n",
        "\n",
        "    # Word tokenize\n",
        "    refs_tokenized = list(map(lambda x: word_tokenize(x), references))\n",
        "    hyp_tokenized = word_tokenize(hypothesis)\n",
        "\n",
        "    # Smoothing function to avoid the cases where it resuts 1.0 in the cases when // Corpus/Sentence contains 0 counts of 2-gram overlaps. BLEU scores might be undesirable; use SmoothingFunction() //\n",
        "    chencherry = SmoothingFunction()\n",
        "\n",
        "    bleu_1 = sentence_bleu(refs_tokenized, hyp_tokenized, weights=(1, 0, 0, 0), smoothing_function=chencherry.method2)\n",
        "    bleu_2 = sentence_bleu(refs_tokenized, hyp_tokenized, weights=(0.5, 0.5, 0, 0), smoothing_function=chencherry.method2)\n",
        "    bleu_3 = sentence_bleu(refs_tokenized, hyp_tokenized, weights=(0.33, 0.33, 0.33, 0), smoothing_function=chencherry.method2)\n",
        "    bleu_4 = sentence_bleu(refs_tokenized, hyp_tokenized, weights=(0.25, 0.25, 0.25, 0.25), smoothing_function=chencherry.method2)\n",
        "\n",
        "    return bleu_1, bleu_2, bleu_3, bleu_4"
      ],
      "metadata": {
        "id": "5KCFeBXKtMPG"
      },
      "execution_count": null,
      "outputs": []
    },
    {
      "cell_type": "code",
      "source": [
        "nltk.download('punkt')"
      ],
      "metadata": {
        "colab": {
          "base_uri": "https://localhost:8080/"
        },
        "id": "GmkdiM2LtVFD",
        "outputId": "2ecc321e-769c-42b5-fe4c-3c0621718ec9"
      },
      "execution_count": null,
      "outputs": [
        {
          "output_type": "stream",
          "name": "stderr",
          "text": [
            "[nltk_data] Downloading package punkt to /root/nltk_data...\n",
            "[nltk_data]   Unzipping tokenizers/punkt.zip.\n"
          ]
        },
        {
          "output_type": "execute_result",
          "data": {
            "text/plain": [
              "True"
            ]
          },
          "metadata": {},
          "execution_count": 118
        }
      ]
    },
    {
      "cell_type": "code",
      "source": [
        "# from typing import List\n",
        "# from nltk.translate.bleu_score import sentence_bleu\n",
        "# from tqdm import tqdm\n",
        "\n",
        "def calculate_nltk_bleu(references: List[List[str]], hypothesis: List[str]):\n",
        "\n",
        "    assert len(references) == len(hypothesis)\n",
        "\n",
        "    bleu_totals = [0, 0, 0, 0]\n",
        "\n",
        "    for i in tqdm(range(len(references))):\n",
        "        # Convert each element to string before joining\n",
        "        reference = \" \".join(str(item) for item in references[i])\n",
        "        curr_hypothesis = \" \".join(hypothesis[i])\n",
        "\n",
        "        curr_bleu = calculate_nltk_bleu_single(reference, curr_hypothesis)\n",
        "\n",
        "        bleu_totals[0] += curr_bleu[0]\n",
        "        bleu_totals[1] += curr_bleu[1]\n",
        "        bleu_totals[2] += curr_bleu[2]\n",
        "        bleu_totals[3] += curr_bleu[3]\n",
        "\n",
        "    return (round(bleu_totals[0] / len(references) * 100, 2),\n",
        "            round(bleu_totals[1] / len(references) * 100, 2),\n",
        "            round(bleu_totals[2] / len(references) * 100, 2),\n",
        "            round(bleu_totals[3] / len(references) * 100, 2))\n",
        "\n"
      ],
      "metadata": {
        "id": "WZyw022dtaF1"
      },
      "execution_count": null,
      "outputs": []
    },
    {
      "cell_type": "markdown",
      "source": [
        "### Generate results"
      ],
      "metadata": {
        "id": "xK8efsPhteTU"
      }
    },
    {
      "cell_type": "code",
      "source": [
        "results = []\n",
        "\n",
        "for i in tqdm(range(len(test_dataset))):\n",
        "    sample = test_dataset.iloc[i]\n",
        "\n",
        "    results.append(generate(best_model, sample['correct_answer'], sample['question'], sample['context']))"
      ],
      "metadata": {
        "colab": {
          "base_uri": "https://localhost:8080/",
          "height": 49,
          "referenced_widgets": [
            "5d58157c1b8743328a4c959e7ef0489c",
            "d3c81d175c87487bbe444b56493152f3",
            "d97f53b90fdf43f8b096885db92e60c4",
            "4420cafaa4054d489b0d1bf11b9caefc",
            "0568697601314df48980cad101651307",
            "736e6f777762474c8d9331275e7c6649",
            "e316b07563e64be2a439898bedf50e99",
            "144a0636e8b54153a9304d9e1f436236",
            "0494869c23774965abb144b45ac4e930",
            "e8f9d226ac8f444db8c37062b4b4222e",
            "9715c6253dbc4d67bfb98c8cdc8cabd9"
          ]
        },
        "id": "m5YQ7i5AtfD8",
        "outputId": "991b416d-4942-4156-a10d-21c4d77595b2"
      },
      "execution_count": null,
      "outputs": [
        {
          "output_type": "display_data",
          "data": {
            "text/plain": [
              "  0%|          | 0/190 [00:00<?, ?it/s]"
            ],
            "application/vnd.jupyter.widget-view+json": {
              "version_major": 2,
              "version_minor": 0,
              "model_id": "5d58157c1b8743328a4c959e7ef0489c"
            }
          },
          "metadata": {}
        }
      ]
    },
    {
      "cell_type": "code",
      "source": [
        "path = '/content/drive/MyDrive/Research/' + 'Distractors/' + 'results-epoch4' + '.txt'\n",
        "\n",
        "with open(path, \"w\",encoding=\"utf-8\") as output:\n",
        "    for row in results:\n",
        "        output.write(str(row) + '\\n')"
      ],
      "metadata": {
        "id": "xlSXX0ahuRqQ"
      },
      "execution_count": null,
      "outputs": []
    },
    {
      "cell_type": "markdown",
      "source": [
        "### Load predictions"
      ],
      "metadata": {
        "id": "OkhnlHiZwEQk"
      }
    },
    {
      "cell_type": "code",
      "source": [
        "from typing import List\n",
        "\n",
        "def load_lines_from_txt(file_path: str) -> List[str]:\n",
        "    lines = []\n",
        "\n",
        "    with open(file_path,encoding=\"utf-8\") as f:\n",
        "        lines = f.readlines()\n",
        "\n",
        "    for i in range(len(lines)):\n",
        "        lines[i] = lines[i].strip()\n",
        "\n",
        "    return lines"
      ],
      "metadata": {
        "id": "nWcOwd_Tv---"
      },
      "execution_count": null,
      "outputs": []
    },
    {
      "cell_type": "code",
      "source": [
        "results = load_lines_from_txt('/content/drive/MyDrive/Research/Distractors/results-epoch4.txt')"
      ],
      "metadata": {
        "id": "nFkTsQGVwB6z"
      },
      "execution_count": null,
      "outputs": []
    },
    {
      "cell_type": "markdown",
      "source": [
        "### Split distractors"
      ],
      "metadata": {
        "id": "doG3_d_WyFjt"
      }
    },
    {
      "cell_type": "code",
      "source": [
        "def correct_index_of(text:str, substring: str, start_index: int = 0):\n",
        "    try:\n",
        "        index = text.index(substring, start_index)\n",
        "    except ValueError:\n",
        "        index = -1\n",
        "\n",
        "    return index\n",
        "\n",
        "def replace_all_extra_id(text: str):\n",
        "    new_text = text\n",
        "    start_index_of_extra_id = 0\n",
        "\n",
        "    while (correct_index_of(new_text, '<extra_id_') >= 0):\n",
        "        start_index_of_extra_id = correct_index_of(new_text, '<extra_id_', start_index_of_extra_id)\n",
        "        end_index_of_extra_id = correct_index_of(new_text, '>', start_index_of_extra_id)\n",
        "\n",
        "        new_text = new_text[:start_index_of_extra_id] + '<sep>' + new_text[end_index_of_extra_id + 1:]\n",
        "\n",
        "    return new_text"
      ],
      "metadata": {
        "id": "s2YbgsOTyGK7"
      },
      "execution_count": null,
      "outputs": []
    },
    {
      "cell_type": "code",
      "source": [
        "incorrect1s = []\n",
        "incorrect2s = []\n",
        "incorrect3s = []\n",
        "incorrect4s = []\n",
        "\n",
        "for result in results:\n",
        "    cleaned_result = result.replace('<pad>', '').replace('</s>', '')\n",
        "    cleaned_result = replace_all_extra_id(cleaned_result)\n",
        "    distractors = cleaned_result.split('<sep>')\n",
        "\n",
        "    if len(distractors) != 4:\n",
        "        if len(distractors) == 3:\n",
        "            print('3 answers at', result)\n",
        "            distractors.append('')\n",
        "        else:\n",
        "            print('1 distractor', result, 'not enough distractors??')\n",
        "            distractors.append('')\n",
        "            distractors.append('')\n",
        "            distractors.append('')\n",
        "            distractors.append('')\n",
        "\n",
        "    incorrect1s.append(distractors[0])\n",
        "    incorrect2s.append(distractors[1])\n",
        "    incorrect3s.append(distractors[2])\n",
        "    incorrect4s.append(distractors[3])"
      ],
      "metadata": {
        "colab": {
          "base_uri": "https://localhost:8080/"
        },
        "id": "_KQJDfHmyOvU",
        "outputId": "9c90481a-bacc-4ca6-ae1d-2dbc0434c2d8"
      },
      "execution_count": null,
      "outputs": [
        {
          "output_type": "stream",
          "name": "stdout",
          "text": [
            "1 distractor <pad> prolactin aplicatiiPresence of a hormone in the thyroid gland Promotes only non-tropic eff ects. Growth hormone promotes only non-tropic eff ectes. ingrijire imunitar</s> not enough distractors??\n",
            "1 distractor <pad> It is a highly regulated and efficient food processor. it can be produced from wild sources of fish, crustaceans and other aquatic plants. Produced from extensive aquaculture Oreochromis niloticus contributes to fresh water fish production ingrijire imunitar</s> not enough distractors??\n",
            "1 distractor <pad> Oxidation of pyruvate is the link reaction to glycolysis. It is formed by co-enzyme A and CO2. At the end of glycolyse, pyrula is converted to two NADH molecules. Acetyl Co-A will feed its  not enough distractors??\n",
            "1 distractor <pad> telophase is the longer phase of cell division. it covers only about 10% of cell cycle. It is called nuclear division which gives rise to two genetically identical daughter nuclei from a mother nuleus, and nodeoli are visible through light microscope. Nucleoli get disappeared</s> not enough distractors??\n",
            "1 distractor <pad> A, B and D only Constanța cunoaște cell walls composed of cellulose in plant cells și chitin in fungal cells. școlis are not used in animal cells.Asociația prokaryotic and eukaryotes have an average cell size from 10 to 5 micrometers1.EACHING not enough distractors??\n",
            "1 distractor <pad> Generally, the genetically transmitted trait is homozygous recession. It is due to the absence of dominant allele W and Bent thumb are not present in mendelian traits. They tend to be related to the head with the tongue rolling</s> not enough distractors??\n",
            "1 distractor <pad> synthesis iron were formed by photosynthesis iron (Fe 2+) was produced in the early oceans. production of nitrogenous bases from inorganic macromolecules occurred at the protocell level, but not at the end of the cyclophyll cycle proved to be possible for the cells</s> not enough distractors??\n",
            "1 distractor <pad> Ensure cofactors are not used up during the reaction. Reduce the activation energy of the enzyme. induce Co-factors can be found in the end products of the reaction. ingrijire foloseste</s> not enough distractors??\n",
            "1 distractor <pad> sporophytes are homosporous. Pogonatum is the dominant stage of life in sori and pogonatum, respectively Sporophytes have no sporangia but they absorb water from the female gametophyte</s> not enough distractors??\n",
            "1 distractor <pad> Bacteria is a small animal species. Its larval form is the largest of all mammals in the world and has only one female male, Female or female born on land Only terrestrial chordates are found on land alone but not on fresh waters Most animals have an adult appenditive relationship with their not enough distractors??\n",
            "1 distractor <pad> articular cortex and inner renal medulla are supplied with blood vessels. outer fibrous capsule, renal cortex and inner renal medull have striated appearance. Cortex is composed of glomeruli. ingrijire</s> not enough distractors??\n",
            "1 distractor <pad> DNA and RNA molecules are formed by condensation of nitrogenous bases. Nucleotides have three types: Adenine, Guanine and Uracil respectively. Nitrogenous base is composed of two types; Purines contain C, H, O, T and Pwhereas Cytocine has not enough distractors??\n",
            "1 distractor <pad> Cycas and semi parasitic - Cuscuta, Drosera and host plants. Parasitism is an ecological relationship between two species of organisms who exhibit mutualism; Mutualism occurs in the presence of nitrogen fi xing bacteria</s> not enough distractors??\n",
            "1 distractor <pad> Ensure that DNA is not connected to each other. Store the genetic information for protein synthesis, Maintain the integrity of DNA and maintain the confidentiality of all biological processes.Store and transmit genetic information from one generation to the next generation, Deliver the genetic information for protein synthesis</s> not enough distractors??\n",
            "1 distractor <pad> Phytophytes are monoecious. Antheridia produces one egg and retain one egg Mango, Nephrolepis, Lycopodium and Marchantia aplicatii exercitiiMango, Nephrole Pseudophytes, Cycophytes și Employ not enough distractors??\n",
            "1 distractor <pad> a living cell is usually under positive pressure due to osmotic uptake of water. a living cell has a negative value because living cell is usually under positive pressure from obstructive uptake of water. A living cell is usually under positive pressure Due to octo not enough distractors??\n",
            "1 distractor <pad> hyaluronidase destroys the body tissue by breaking down the hyaluronic acid. produce phospholipane which contributes to invasiveness aplicatii</s> not enough distractors??\n",
            "1 distractor <pad> Structure - Glyoxisomes, Function - Photorespiration in plantsEtwaige Struktur - Protein filaments Organisms - Anchorage organelles and actin enzymes of the cell Halte the shape</s> not enough distractors??\n",
            "1 distractor <pad> During asexual reproduction, recombination helps produce varied genotypes. Unique gene combinations formed during sexual reproducers would be advantageous as this can propagate successful genotyping specifi cally</s> not enough distractors??\n",
            "1 distractor <pad> naturally acquired active immunity artificially acquired natural active immunity Artificially acquired natural active immunity ingrijire foloseste a person who had an infection of mesles rarely develops the same infection again. proaspatationalized by artificial immunization, biological and biological processes created from attenuated live tuberculo not enough distractors??\n",
            "1 distractor <pad> THymosin secretes the hormone thamosin. Thymus gland regulates the development and maturation of T lymphocytes which are important components of specifi c immunity. Melatonin - Regulating biological rhythmsWährenddessen, was found in the not enough distractors??\n",
            "1 distractor <pad> ovulation of the fallopian tube is a process for obstructing the reproductive system. Ovaries are formed by ovarian follicles and support cells. It is produced by sperms during its development in vagina, both male and female gametes have not enough distractors??\n",
            "1 distractor <pad> agar is made up of potato dextrose and peptone. NAN is made up of potatoes, meat extract and glucose chloride. nitrogen dioxide kills microorganisms in culture mediaMulte cultures are not grown on culture mediasunteti in the process</s> not enough distractors??\n",
            "1 distractor <pad> energize the photosystems of chloroplast. produce ATP but not NADPH and Oxygen are released. emit a light reaction in the centrifugal membrane of the chloroplast. generate a light reaction from NADP reductatases to oxygen, which is produced not enough distractors??\n",
            "1 distractor <pad> cervical vertebrae. lumbar vertebrae. transverse processes. neuronal process. neural arch provides passage way for the spinal cord. glandular discs of the vertebral foramen are located between the two vertebrate and spine</s> not enough distractors??\n",
            "1 distractor <pad> spongy mesesophyll cells have less chloroplasts than in palisade menosphyll cells. Guard cells are the only epidermal cells that contain chloroplasts. guard cells can be found in an area of water and air space when exposed to light. masura not enough distractors??\n",
            "1 distractor <pad> It is a condition of gradual loss of kidney function over time. There are many reasons for kidney failure that can be caused by renal calculi. ingrijire (PKD) has no renal calculi. foloseste the physiotherapist to help patients with CKDu have regular check ups and regular checks ups not enough distractors??\n",
            "1 distractor <pad> GH aplicatii The most abundant hormone synthesized by the anterior pituitary Promotes only non-tropic eff ects. Growth hormone (GH) secreted by the anterior pitus is located in the foren brain just below the hypothalamus to which it is attached by not enough distractors??\n",
            "1 distractor <pad> a change in a base pair sequence of a gene. bei vitro is the absorption of diff erent wavelengths of visible light by the brain. at least one RBC occurs in red blood cells, but only in females and males with this disorder are not affected by genetic disorders not enough distractors??\n",
            "1 distractor <pad> ATP is produced by anaerobic respiration. Its production is not limited to mitochondria, but also in the transport of CO2 molecules. They are small biconcave disk-like cells and platelets. ingrijire occurs from bone marrow in the bones such as ribs, not enough distractors??\n",
            "1 distractor <pad> It is a single layer with plate like cells. There are no blood vessels in the tissue of the epithelium and nuclei have different heights. They are not of equal height. These cell layers can be found in kidney tubules, many glands such as thyroid glands and not enough distractors??\n",
            "1 distractor <pad> Eggs with shells. ingrijire All are covered by placcoid scales. proaspatational to the outside of body; none have internal fertilization; None species were born in frogs, carp or tuna—only on land.”Neither marine species nor any other animal found only on not enough distractors??\n",
            "1 distractor <pad> glyoxysomes convert fatty acids into sugar. glycosomes transform fatty acids into sugar. ingrijire foloseste</s> not enough distractors??\n",
            "1 distractor <pad> abiotic synthesis of small organic molecules from inorganic micro-organisms originated before 2.7 billion years ago. It was produced by the formation of RNA into membranes and formed protocells with RNA included. proaspatation to early earth atmosphere contained methane at least twice as not enough distractors??\n",
            "1 distractor <pad> Ensure that all species are in the living world. Explain them by means of diff erent ecosystems. ingrijire foloseste nodeautiary is the difference between organism and life cycle on earth. cunoaștetion of biodiversity depends on the nature of the environment.Asociația</s> not enough distractors??\n",
            "1 distractor <pad> a person with a normal sperm is unable to produce normal sperme. an individual has no spermatoplasmic protein required for blood clotting are absent. A patient with a normal spermate can get severe bleeding during injuries due to the delay in clot not enough distractors??\n",
            "1 distractor <pad> Itisthe ejection of primary oocyte from the Graafian follicle. ingrijire foloseste abramovables</s> not enough distractors??\n",
            "1 distractor <pad> Ensure Sporophytes have an underground stem. ingrijireMulte nucleus are highly dissected and feathery.sunteti in the environment.Biserica Ortodox</s> not enough distractors??\n",
            "1 distractor <pad> C3 - Photosynthesis is occurring in bundle sheath cells. In bundle sheat cells, CO2 is released and refixed by Rubisco. It is the first product of CO2 fixation. ingrijire foloseste</s> not enough distractors??\n",
            "1 distractor <pad> It allows rapid multiplication of individuals from a single parentDabei ingrijire helps produce varied genotypesGleichzeitigize it is possible to reproduce specifi cally. foloseste the genital cord</s> not enough distractors??\n",
            "1 distractor <pad> temperate grasslands, temperate broad leaf forests Arctic tundra, temperate grasslands, temperate rain forestsMulte Temperature range is 24-29 °CEnsures the growth of trees in this biome minimized by humans. ingrijire foloseste</s> not enough distractors??\n",
            "1 distractor <pad> Inhibits the lining of the joints. inhibits the beeten cells of the pancrease. induces inflammation of the cartilage and bones.impedes the formation of beta cells in the pancrease. ingrijire foloseste</s> not enough distractors??\n",
            "1 distractor <pad> They are found in all living organisms. clientii clientilor lor operarea de eukaryotic cells Involve in Photorespiration, Synthesize ATP to aerobic respiration and stimulate electron transport chain constructii</s> not enough distractors??\n",
            "1 distractor <pad> have morphologically dissimilar Bametophytes and sporophytes. proaspatation of land plants with sporangia always aplicatii Of course, the presence of sporangia in seed plants is not uncommon amongst those found in land plants cunoaște heteromorphic alternation of not enough distractors??\n",
            "1 distractor <pad> suckling stimulates the release of milk from the mammary glands. secretion of milk is done by stimulation of touch receptors in the nilities. suppressed expression of oxytocin hormone during sucking occurs after birth. induces ejection not enough distractors??\n",
            "1 distractor <pad> 330kPa ingrijire Solute potential of solution A was - 1450 kPpa și that of solution B was - 1120 ka. When solutes are added, they bind water molecules and reduce free water molecules. At sea level the pressure potential is 0 MP not enough distractors??\n",
            "1 distractor <pad> It is a single ferrous ion. it contains one (Fe 2+) ferrous ion. clientii respiratory pigments are organic compounds which can combine with oxygen where partial pressure of oxygen is high and release oxygen where partial pressure of oxygen is low in animal kingdom Chlorocru not enough distractors??\n",
            "1 distractor <pad> Itis completed by the 15% day after fertilization. it is a healthy uterus and requires no rejection of the body even though half the genes are inherited from the father. ingrijire foloseste</s> not enough distractors??\n",
            "1 distractor <pad> Lysosomenasselipids ingrijire Organisms - Transport residue material out of cell by exocytosie. Autolysis causing cell death. Functions - Digest food particles received by phagocytesis. transport residue material from cell by exocytosis.Funktionen not enough distractors??\n",
            "1 distractor <pad> periderm is the protective layer of epidermal coating in aerial parts Epiderme cells are found in ground tissue Collenchymas and collenchymas secrete chemicals involved in defense against pathogens Parenchymes, cortisol, trichomes und pith evidențient from not enough distractors??\n",
            "1 distractor <pad> Convention on Wetlands convention. Agenda The International Trade in Endangered Species of Wild Fauna and Floral Guinea Countries declared as Ramsar sites are considered as the main Biodiversity Conservation Area located at Anawilundawa Region identified as Sri Lankan Leopard Islands designation is granted not enough distractors??\n",
            "1 distractor <pad> Heparin converts prothrombin into thrommine and fibriogen to fibra. It is a highly complex series of reactions occurring in undamaged blood vessels. Vitamin K is essential for the production of fibryan organisms. ingrijire occurs in undamaged blood vessel because it not enough distractors??\n",
            "1 distractor <pad> a,b and c Constanța A. Food is based on the following principles: prevention of spoilage Prevention for food wastage Promotion of nutritive food items to be processed by means of proper processing Processing helps reduce spoilage Controlling of food produced through improper processing Management Of low grade raw goods harvested not enough distractors??\n",
            "1 distractor <pad> Sporangia attached to the upper surface of sporophyllsOhneeinander.Multe nucleus are dominant in Nephrolepis. ingrijiresunteti in the same way as other species except for Nippolepis.Asociația gametophyteAvem no sporophytes, No not enough distractors??\n",
            "1 distractor <pad> gibberellins Gibberellin versprechen Cytokininenhälts abscission in the juvenile phase des bacillus auxins, gibberlin and ethylene Fernandez Freimannschaftsteuerung immunisation bei denganès Herbischofeeignen not enough distractors??\n",
            "1 distractor <pad> apex of the heart is slightly to the left of the median plane and it has 2 lobes while the right lung has 3 lobens. in the larynx are vocal cords made up of elastic fibers. Both vocal cords have elastic fibers.<extra_id_38></s> not enough distractors??\n",
            "1 distractor <pad> phosphodiester bonding enzymes in gene technology Organism of restriction endonucleases for DNA shearing and cutting ADN fragments with different sizes are obtained by reverse transcriptase ingrijire cerinte</s> not enough distractors??\n",
            "1 distractor <pad> have unevenly thickened cell walls. are mainly located in the ground tissue, but not at the end of their cell wallseinanderrupted by thin layer Layers between stem and roots aparțining to parenchyma cells ingrijire foloseste</s> not enough distractors??\n",
            "1 distractor <pad> Absorption Constanța Fibrous connective tissue Binding of tissues to adjacent tissues Organisms are found in bones and joints where tens of thousands of pounds can be produced by the vertebrates Betroffenen will not receive any medical attention When it comes to bone structure, there is no need for extracellular not enough distractors??\n",
            "1 distractor <pad> Abscisic acid Gibberellins gibberellins auxin ethylene Ja-monate Freie of which of the following hormones in plants is stimulated by water deficit Cesinenhälterimpedes leaf abscission Desinhaltedes Frucht germinationßen not enough distractors??\n",
            "1 distractor <pad> colostrum contains less lactose and no fat. True milk has more lactoses than true milk but they are adequate for the early nutritional needs. Colostrum is a sterile solution that contains lacto-se, fatty acids and minerals. ingrijire prevazut in the case not enough distractors??\n",
            "1 distractor <pad> X-rays and UV radials are examples for mutagenic physical agents. ultraviolet rays are examples for mutan physical agents. radiative radiations need to be handled with utmost care. ingrijire can be arranged with utmost care. școli</s> not enough distractors??\n",
            "1 distractor <pad> heterotrophic aplicatii Unicellular Protists are pleomorphic endeavorAsociația Anaerobic respiratory modes found among protonsambique Gymnastics and aerobic respiration mechanisms located in the reproductive environment șofer proaspatngunistic</s> not enough distractors??\n",
            "1 distractor <pad> mRNA moves until the start codon aligns with the P site of the large subunit. termination codon signals the “stop” of translation or as ”termination codions”. UAG, UGA and UA code for methionine is used to signal the “stop” not enough distractors??\n",
            "1 distractor <pad> pharynx, pharynos and alveoli are formed of elastic fibers. They have two branches in the nasal cavity. The outer membrane is called the visceral pleura which passes from nose to the trachea. Both ends in air sacs named alveo not enough distractors??\n",
            "1 distractor <pad> Parkinson disease is a progressive motor disorder that leads to degeneration of dopamine neurotransmitter in the brain especially in cerebral cortex with deteriorating mental functioning. It is associated with gradual degeneration of dope</s> not enough distractors??\n",
            "1 distractor <pad> axial skeleton and appendicular skeleton Axial skeleton is divided into two main parts: axial skeleton and appendic skeleton. Achilles are the most important part of the foot positioning</s> not enough distractors??\n",
            "1 distractor <pad> repolarization occurs due to a change in membrane potential. hyperpolarization happens due to a change in membrane potential caused by a stimulus. action potential is determined by the presence of ATP inside and outside of the neuronal cell. ingrijire foloseste</s> not enough distractors??\n",
            "1 distractor <pad> have sporophytes that are more dominant than spophytes. proaspatal ones with heteromorphic alternation of generations alwaysversprechen Have sporangium and bametophytes which show heteromorphic alternation Of generations immerimmer ingrijire Gametophyte is the predominant plant, larger and not enough distractors??\n",
            "1 distractor <pad> It is a cellulose structure. Primary cell wall lies between plasma membrane and primary cell wall; secondary cell wall has pits through which cytoplasm of adjoining cells join through. Primary cell wall lies between plasma membrane and primary cell wall; prokaryotes, fungi and some pro not enough distractors??\n",
            "1 distractor <pad> monocotyledons- species with one nan 2. Dicotylingones- species with two nan Bacillus sac ingrijire Carpels produce megaspores................</s> not enough distractors??\n",
            "1 distractor <pad> Inverted pyramid of number There is a decrease in the number of individuals from lower to higher trophic levels. At each trophic level, there is a reduction in energy loss during the fl ow of energy by organisms and productivity at each trophic level. ingrijire foloseste</s> not enough distractors??\n",
            "1 distractor <pad> Tropical forests Constanța Klima change in the climate</s> not enough distractors??\n",
            "1 distractor <pad> DNA Polymerase ingrijire incadr incadr incadr incadr incadr incadr incadr incadr incadr incadr incadr incadr incadr incadr incadr incadr incadr incadr incadr incadr incadr incadr incadr incadr incadr incadr incadr incadr incadr incadr incadr incadr incadr incadr incadr incadr incadr incadr incadr incadr incadr incadr incadr incadr incadr incadr incadr incadr incadr incadr incadr incadr incadr incadr incadr incadr incadr incadr not enough distractors??\n",
            "1 distractor <pad> They are mainly found in the ground tissue. they have primary cell walls which are relatively thin, fl exible and non-existent There is no protective layer that can be used to protect against physical damage Ground tissue system contains guard cells These secrete chemicals involved in defense against insects/pathogens Others not enough distractors??\n",
            "1 distractor <pad> secondary vascular tissue is produced by the action of vascular cambium. cork cams and woody perennial plants are called periderm. ingrijire produces cells inolder regions where primary phloeme has been formed. Both lateral meristems produce secondary not enough distractors??\n",
            "1 distractor <pad> telophase is the longer phase of cell division. anaphase occurs during mitotic phase, metaphase and telodialysis occur in acetyl-mediated process with nodeolar cells from nucleus translate into chromosomes through light microscope. prometaphase produces not enough distractors??\n",
            "1 distractor <pad> atrioventricular valve has three flaps and left arial valve has two flaps. right atricardium is the outer most layers of myocardium It is composed of specialized cardiac muscle found only in the heartinnenEtwaigung derartiger rhythmic rhythms occur due to not enough distractors??\n",
            "1 distractor <pad> It secretes K+. stipulate Select the incorrect statement regarding the proximal convoluted tubulus of human naphronesEtwaige H+, NH3, creatinine and excess K+ are found in the Bowman’</s> not enough distractors??\n",
            "1 distractor <pad> During inhalation, nerve impulses are sent to external intecostal muscles. ingrijire In the aorte and aortes of major blood vessels, O2 sensors found in the carotiota detect this decrease in H+ concentration.<extra_id_38></s> not enough distractors??\n",
            "1 distractor <pad> ovulation occurs at the metaphase I stage of ogenesis. Ovaries are formed by ovarian follicles and support cells. At the end of obstructive phase, sperms can penetrate into vagina. Both ovules occur during the not enough distractors??\n",
            "1 distractor <pad> NH3, NH3, creatinine and excess KPK Acetylène und Chlorobenzene și lactoseEtwaige H+, NH3, creatinine Andreases proaspatation cunoașted with penicillinEinige derartige Stoffe sind in not enough distractors??\n",
            "1 distractor <pad> colon, small intestine and cecum aplicatii Colon, small intestina and cecum ingrijire Bacteria contains water. It is the main source of food in the human digestive system In man, synthesis of vitamin B occurs when food enters the oral cavity due to obstruction not enough distractors??\n",
            "1 distractor <pad> Nephrolepis s. and Selaginella sp Constanța produces fl agellated sperm Nipponium produced fl agellated sperme Antheridium producing fl agellated spermes proaspatation cunoașted by meio not enough distractors??\n",
            "1 distractor <pad> apoplastic route blocks symplase by a barrier located in the endoderme. Endodermalis block apoplastic route through a barrier situated in the innermost layer of cells in the cortex</s> not enough distractors??\n",
            "1 distractor <pad> C3 - Photosynthesis is high, C4 - Photosynthetic yield is usually low. Köln Fürchteliche Chlorophyll a molecule in the PS II absorbs light at 700nm wave length effectively</s> not enough distractors??\n",
            "1 distractor <pad> ozone is highly reactive. It kills pathogenic bacteria by oxidation, but does not produce any residual effect on the health of pathogens in small numbers. Ozone is highly reactive and eliminates bacteria by oxidation. proaspatation occurs at urban water treatment plant can be used to disinfect not enough distractors??\n",
            "1 distractor <pad> hibiscu'i roses, hibiacu'i roses, hibiscu'i roses, hibiscu'i roses, hibiscu'i roses, hibiscu'i roses, cucurbits like cucumbers and pumpkin not enough distractors??\n",
            "1 distractor <pad> It is the largest part of the human brain. it is divided by a deep cleft into right and left cerebral hemispheres. The forebrain, mid-brain and hind brain develop into adult brain.aparatul has two masses composed of grey matter.<extra_id_36></s> not enough distractors??\n",
            "1 distractor <pad> 2950 ml, 2550 mi and 4400 mL în men. It is normally around 3100 m L in men and 2800 mL in men. Vitro capacity (VC): The maximum volume of air that can be inhaled after forceful expiration. not enough distractors??\n",
            "1 distractor <pad> Immediately next to the leaf is a thin layer of stationary air through which water vapour diffuses from their wet walls into intercellular air spaces. It is then swept away by moving air. There is a diffusion gradient around it. ingrijire</s> not enough distractors??\n",
            "1 distractor <pad> phospholipase destroy cell membranes. lesithinases the lecithin component of the lipid in the cell membrane. Phyaluronidasis- destroy cell membranes and exotoxins</s> not enough distractors??\n",
            "1 distractor <pad> Structure - Glyoxisomes, Function – Photorespiration in plants Organism - Cell sap Struktur - Glyoxisomes, Funktion - Photosauberung In plant cells it contains water structure and other materials including sugars, ions and pigments constructii</s> not enough distractors??\n",
            "1 distractor <pad> repolarization occurs due to a change in membrane potential. action potential is determined by the presence of ATP and other stimuli. Its activation potential is not determined by an action potential occurring during a stimulus</s> not enough distractors??\n",
            "1 distractor <pad> It is mainly composed of Phospholipids. All cellular membranes are made up of integral proteins and glycoproteins, Protein und Liposome ingrijire foloseste the recipient</s> not enough distractors??\n",
            "1 distractor <pad> WaterassetWaterdeprived Animals maintain a steady state Condition They keep the internal environment relatively constant within narrow physiological limits proaspatation cant changes in the external environment. Maintaining an internal environment is a condition where body’</s> not enough distractors??\n",
            "1 distractor <pad> Thermoreceptors located in the skin detect the body surface temperature whereas thermoreceptants found in hypothalamus détect the temperature of the bloodcirculating through the internal organs. They are neuronal receptors that respond to chemical stimuli. Cholesterin is an important part of not enough distractors??\n",
            "1 distractor <pad> Dabei, it promotes calcium reabsorption through the small intestine. It also regulates the metabolism of carbohydrates and fats. Organised by the thyroid gland is triiodothyronine (T3) und thyroxin (T4) which are collective not enough distractors??\n",
            "1 distractor <pad> Tropical rain forests aplicatiial activities are carried out in the forest. tropical forestsEnsure This biome covers the twenty percent of the land surface of the earth. ingrijire It is a biome that covers the 20 percent of the land surface of the earth. foloseste</s> not enough distractors??\n",
            "1 distractor <pad> transpiration pull occurs under a negative pressure gradient Constanța Transport of water and minerals in plants Multumesc Organise of transport of water and minerals to upper parts of the plantEACHObserve that cohesion pulls downstream due to difference in pressure potential. ingrijire happens through bulk fl ow................</s> not enough distractors??\n",
            "1 distractor <pad> During atrial contraction, right ventricle pumps the oxygen poor blood into the two lungs via pulmonary arteries. Right ventricles pump the oxygen poor blood to the respiratory surface of the human heart and left atrium through diffusion O2 is unloaded from blood in capillaries</s> not enough distractors??\n",
            "1 distractor <pad> Tropical rain forests, deserts, monaco-forestry tropical rain forests, savalanche Tropic rain forests, deserts, saviour forests Tropical rainfall forests, deserts, savanna ingrijire Bhutan șofer</s> not enough distractors??\n",
            "1 distractor <pad> Embryo develops into the gametophyte. Bacillus is retained in the archégonium and male gametes are released from antheridium. Gametons grow into haploid gamettes by mitiotic conditions. proaspatation of land plants produces more than one type of not enough distractors??\n",
            "1 distractor <pad> <unk>p of a living cell is usually less than -2 MPa. Pressure potential of xylem vessels are generally negative value because living cell is usually under positive pressure due to osmosis. Solute potential of atmosphere is less than that of mesesophyll cellsEtwa not enough distractors??\n",
            "1 distractor <pad> Cl, Fe, Mn, B, Z N, Cu, Ni, Mo C,O,H,N,P,S,K,Ca, Mg (9 elements) ;Micronutrients- Plants require these elements in large amounts.Biserica translate into the plant’ not enough distractors??\n",
            "1 distractor <pad> periderm is the protective layer of epidermal coating in aerial parts Epiderme has three main tissue systems Collenchymas are found in ground tissue Colenchymas have primary cell walls which are relatively thin and most of the cells were removed from the retina ingrijireary organelles undergo photosynthesis chemotherapy not enough distractors??\n",
            "1 distractor <pad> Usually menopause takes place between the age of 45 and 55 years. Menstruation occurs between the ages of 45 and 55 years.During this time the ovarian supply of oocytes runs out and the estrogen production by the ovary decrease</s> not enough distractors??\n",
            "1 distractor <pad> It is a thin pigmented layer composed of pigment cells. it is rich with blood vessels. There are two layers of tissue in the cornea. Circulation of eyeball occurs in the scleral and vascular regions.<extra_id_36></s> not enough distractors??\n",
            "1 distractor <pad> a defective allele in one X chromosome is masked by the good allele in the other. hemoglobin defi ciency occurs in the retina and does not affect the perception of red or green colours In males at heterozygous condition, a defect not enough distractors??\n",
            "1 distractor <pad> respiration gases oxygen, carbon dioxide nutrients nitrogenous acids hydrogenated fatty acid Oxygen from the body cells Carbon dioxide oxides proaspatona with ammonium substanțs transported in the body Insulin contained within respiratory gases sulfuric compounds aparitie</s> not enough distractors??\n",
            "1 distractor <pad> Helical viruses polyhedron and icosahedral fluorescencehelical virus Polyhedravirus Nucleic acid Bacteria influenza epidemic aparitie</s> not enough distractors??\n",
            "1 distractor <pad> Embryo develops into the gametophyte. Spores grow into haploid gametorophytes. Gametons are produced by mitotic acidity of seed plants and can be reproduced in terrestrial plants. proaspatation with native plant species produces spores from land to sea not enough distractors??\n",
            "1 distractor <pad> Bacteria acetyl-sulphur Cytobacillus have one or more twists, they are never straight. Scaphylaphylococeus has two different types of microganites and is the most common type of prokaryotic organism in bacill not enough distractors??\n",
            "1 distractor <pad> Phytosperms are the most common cells of plants Nitrate ions ingrijire foloseste aqueous solution that fl ows through sieve tubes cunoaștes different types of cell for translocation Phloeme sap from mexicophyll cells to companion cells Nymph not enough distractors??\n",
            "1 distractor <pad> X-rays and UV radials are examples for mutagenic physical agents. ultraviolet rays are examples for mutan physical agents. spontaneous mutations occur during DNA replication. ingrijire cerinte</s> not enough distractors??\n",
            "1 distractor <pad> Glyoxisomes aplicatii</s> not enough distractors??\n",
            "1 distractor <pad> ATP is produced by glucose. glycolysis cannot be used in aerobic respiration. It is the first step of lactic acid fermentation for yeast. However, nitrogen dioxide can be produced during glycolysis. prevazut</s> not enough distractors??\n",
            "1 distractor <pad> Ensure that the specific antigen receptors are present in the body. Promoter cells contain toxic proteins to kill the infected cells. Encourager T cells promote the elimination of invaders. ingrijire foloseste</s> not enough distractors??\n",
            "1 distractor <pad> Primary curvatures are convex towards the anterior. Secondary curvature is formed at about 7-8 months of birth. secondary curvatures are convex toward the anterior. Second, secondary curvatures are formed after birth. ingrijire occurs at around 7-9 months.<extra_id_36></s> not enough distractors??\n",
            "1 distractor <pad> Special tissue of the archegonium is formed by sperms. Microsporangium produces four large megaspores by meoses. Sporangia are separated from Nephrolepis and Sellaginell</s> not enough distractors??\n",
            "1 distractor <pad> Dipterocarpus grandifl orus means fruit with two wings dipteronicus and sapiens- Homo mean man Sapiens means intelligent Phaetious species of organisms have the same generic name as any other specifi c epitheat If not, each not enough distractors??\n",
            "1 distractor <pad> asexual reproduction occurs in some animals such as bees, ants and wasps. parthenogenesis occurs in honey beels that develop through parthenation. fragmentation is not found among the mammals of the species identified by the organism involved in the creation of fertilized eggs. It involves not enough distractors??\n",
            "1 distractor <pad> mitochondria and chloroplasts aplicatii In eukaryotic cells, in addition to nucleus, DNA is present in Ganzkörperliche Zellen gehören zu den most common organelles of euphoria. It contains proteins essential for electron transport chain und oxidative phosphorylation. not enough distractors??\n",
            "1 distractor <pad> Immune responses in animals can be divided into two types: Innate immunity • Acquired immunity</s> not enough distractors??\n",
            "1 distractor <pad> fl atworms. Free living examples have a network of tubules with ciliated germ layers, but only in free living examples are tapeworms and fl atworms. proaspatation is required for the formation of larval stages or regeneration pathways</s> not enough distractors??\n",
            "1 distractor <pad> Specifi c stimulus is a specialized structure. It can be used to inform the central nervous system about the conditions inside and outside the body as an action potential for sensory perception und interpretation. Sensory receptors are a specialized structure that can detect elongated stimuli. They not enough distractors??\n",
            "1 distractor <pad> High peripheral temperature (when in hot surroundings) is detected by cold receptors in the skin. Low peripheral temperature (when in hot surroundings) is detected by cold receptors in the skin. Higher peripheral temperature occurs when in hot surroundings</s> not enough distractors??\n",
            "1 distractor <pad> ethylene and gibberellins auxin, ethylene and abscisic acid auin undue alpine Gibberellins stimul the formation of lateral bud in low concentration. Abscisic acid is responsible for regulating cell division in both shoots and not enough distractors??\n",
            "1 distractor <pad> periderm is the protective layer of epidermal coating in aerial parts Epiderme has three main tissue systems Collenchymas are found in ground tissue Parenchymes secrete chemicals involved in defense against insects/pathogens and herbivorous outgrowth They have guard cells, tric not enough distractors??\n",
            "1 distractor <pad> Gnetophyta aplicatii</s> not enough distractors??\n",
            "1 distractor <pad> Temperature 3. Humidity 4. Wind speed 5. Concentration of CO2 6. Available water in soil Regarding the temperature, low humidity outside environment of the leaf increases transpiration. prevazut</s> not enough distractors??\n",
            "1 distractor <pad> spongy mesesophyll cells have less chloroplasts than in palisade menosphyll cells. Guard cells are only epidermal cells that contain chloroplasts. Palisade is the most abundant photosynthesis organ in all plants. ingrijire occurs through paraen not enough distractors??\n",
            "1 distractor <pad> P680 absorbs light at 700nm wave length effectively. In photosystem II the chlorophyll a molecule is known as P680 which absorbs light having a wavelength of 680 nm. Photo system I and photo systems II are neutralized by photo sistem II. not enough distractors??\n",
            "1 distractor <pad> green glands, nephridia and flame cells aplicatii Green gland-Ephridia și flame cellsKampagne Cytolin is the largest excretory organ of all vertebrates. negrue gras und tachyloid organism of all vertebrates. not enough distractors??\n",
            "1 distractor <pad> atris and one ventricle. Atria and one ventral heart are found in birds, reptiles and mammoths. They have two chambered heart; amphibians and most reptiles have a three chamberede</s> not enough distractors??\n",
            "1 distractor <pad> chris carbon dioxide, sulfur dioxide and sulfur Hexafl uoride are also considered as greenhouse gases. nitrogen oxide, phosphorus and sulfur were found in the atmosphere at the time of the last century is higher than CO2 emissions per litre Of not enough distractors??\n",
            "1 distractor <pad> secretions of various organs. shedding of epidermal cells helps to remove microbes from the body. Secretions of various organs are found in both vertebrates and invertebrates. proaspatation with immune system guarantees immediate but general protection against damage Innate immunity is not limited not enough distractors??\n",
            "1 distractor <pad> Atrial syltole is the first cardiac cycle. It is the second heart beat in the human heart. Right atrium will not completely empty during atrial savannatilia</s> not enough distractors??\n",
            "1 distractor <pad> They are shaped by the cup shaped socket. These joints allow for wide range movements such as fl exion, extension and circumduction. It is connected with the cup shaped socket to facilitate a wide range movement. imunitar</s> not enough distractors??\n",
            "1 distractor <pad> a number of copies of viral DNA per bacterial cell are present in the sequence. A number of copies of viral DNA can be inserted into host cells by restriction enzymes. However, when infected with bacteriophage, there is no replication (Ori) between them. ingrijire contains not enough distractors??\n",
            "1 distractor <pad> Food is mashed and ground by different types of teeth with different shapes. Saliva contains water, amylase and mucus; Amylase helps in chemical digestion; Clean the mouth And protect against abrasion—protect from bacteria that enter the mouth–inhibition plaque</s> not enough distractors??\n",
            "1 distractor <pad> Tropical rain forests Constanța tropical dry forests București ingrijire It has a high biodiversity of mammal species. Ecphytes are common among small animalsMulte demons and 5-30 million species of arthropods have not been fully described yet................forestry related activities undertaken in the forest cunoaște</s> not enough distractors??\n",
            "1 distractor <pad> xylem produces one egg and retains it. Gametophyte is the dominant photonthetic thallus Pogonatum makes two types of vascular tissues Antheridium produce one egg And then to the young gametophytes while retained in the gametophytenDeveloped not enough distractors??\n",
            "1 distractor <pad> Activation of PEP carboxylase. Utilization of Rubisco to capture CO2, activation in bundle sheath cells, C3 and C4 plants exhibit distinct characteristics in their photosynthetic processes. ingrijire occurs at temperatures between 15 and 25°C; cereals are the most common not enough distractors??\n",
            "1 distractor <pad> Cl, Fe, Mn, B, Z N, Cu, Ni, Mo C,O,H,N,P,S,K,Ca, Mg Cl, Fe, Mn, B, Z Ne Nu, Cu Non-Mo plant requires these elements in large amounts Citrus not enough distractors??\n",
            "1 distractor <pad> Refrigeration of food in refrigerators at low tem- peratures Storage of food (fruit, fruit juice and rye, etc.) under extremely fast freezing or fast freezing storage for weeks Freezing is done in different types of freezers Under extreme cold Treatment Heating of food helps to prevent spoil not enough distractors??\n",
            "1 distractor <pad> Acceleration of microbial oxidation Encourage microbial oxidation Promote microbial oxidation In secondary treatment, organic matter is removed from the wastewater Treatment plant. Reduced biological activity in activated sludge</s> not enough distractors??\n",
            "1 distractor <pad> They are thoracic and lumber.Acesteas is the largest sacrum in the vertebral column. ingrijire foloseste occipital condyles (and foremen magnum) permit proper balancing of the skull on the vertebrate</s> not enough distractors??\n",
            "1 distractor <pad> Etwas in the atmosphere. Temperature of atmospheric air is higher than CO2. Treibhausgas with high global warming potential1. Klima change events are caused by incomplete combustion of fossil fuels3.<extra_id_89></s> not enough distractors??\n",
            "1 distractor <pad> It passes through loop of Henle. At this point, selective reabsorption of specific substances occurs. As the solutes move from the filtrate to interstitial fluid it secretes K+ and most of the HCO3- by passive transport is achieved. ingrijire happens at the end not enough distractors??\n",
            "1 distractor <pad> Phaeloid frog and elephants, Elephant and Buttercup are among the vulnerable species found in Sri Lanka. Tropical rainforest squirrel and taiga were among the most vulnerable species discovered in the world. Puntocarpus zeylanicus is one of the most endangered not enough distractors??\n",
            "1 distractor <pad> primary structure of the root is formed by differentiation. secondary structure of the root is a result of differentiation. Primary structure of the root is formed by differentiation. ingrijire cerinte</s> not enough distractors??\n",
            "1 distractor <pad> gibberellins Gibberellins bieten a variety of plant hormones. auxins asigură vascular differentiation and retard leaf absorption in the mature phase desponders</s> not enough distractors??\n",
            "1 distractor <pad> Dabei, it is the most important process of translocation. Its aqueous solution that fl ows through sieve tubes differs from xylem sap because it contains sucrose and amino acids in companion cells. In some species, free sugar is consumed during growth or not enough distractors??\n",
            "1 distractor <pad> Gap junctions consists of special membrane proteins that surround the pore through which ions, sugars amino acids may pass. They allow signal and material exchange between adjacent cells via direct connections. ingrijire</s> not enough distractors??\n",
            "1 distractor <pad> Antibiotics are effective antimicrobial drugs against a broad range of bacteria. They kill or interfere with the growth of microorganise without damaging the host. These substances can be safely and directly applied to the human body, while disinfectants cannot.sunteti in the best method: prevent bacterial infections</s> not enough distractors??\n",
            "1 distractor <pad> gonads secrete the hormone testosterone and other androgens after puberty. Sertoli cells secrete estrogen and other androgens after puberty. Hormonol is found in between the testis and va deferenses. ingrijire foloseste</s> not enough distractors??\n",
            "1 distractor <pad> Heterospory, Nephrolepis and Marchantia aplicatii exercitii Mango, Nephrole Pseudo, NephrolePis, Lycopodium and Marchantia Suceava Both sporophytes are heterosporous. proaspatation with the presence of enclosed chamber not enough distractors??\n",
            "1 distractor <pad> Hypotension usually occurs as a result of the increased heart rate. It is caused by cerebral haemorrhage. Hypertension typically occurs as complication of other condition such that shock, Dengue hemorrigation fever or standing up suddenly from sitting or lying position may cause death Diabetes mell not enough distractors??\n",
            "1 distractor <pad> agar is made up of potato dextrose ag and peptone, meat extract, sodium chloride, agu and distilled water. NAN and potatoes are two general media used to grow bacteria and fungi respectively. nitrogen dioxide kills microorganisms in not enough distractors??\n",
            "1 distractor <pad> Während Thalamus is the main input centre of sensory information from special sense organs and sensory receptors in the skinDuring self-regulation, it acts as an input center for skeletal (voluntary) muscle movement. ingrijire foloseste</s> not enough distractors??\n",
            "1 distractor <pad> ligase is the first type of RNA polymerase. Primases are the two most important enzymes involved in the replication process. primates are the second and third strands of DNA to be separated from each other</s> not enough distractors??\n",
            "1 distractor <pad> Synthesize ATP in aerobic respiration, Involve in Photorespiration. Promotes electron transport chain and phosphorylation of the mitochondria cells to oxygenate at night Organisms are involved in photorespiration</s> not enough distractors??\n",
            "1 distractor <pad> ATP is produced by the enzymes of glucose. It is formed during ethyl alcohol fermentation, lactic acid fermentation and aerobic respiration occurs only when O 2 is present in mitochondria</s> not enough distractors??\n",
            "1 distractor <pad> All produce flagellated anthrozoids. Pogonatum, Pogonatum and Nephrolepis are non vascular plants. They lack key traits of land plants; pogonatum is the most common species in the kingdom Plantae—most of them are terrestrial organisms; not enough distractors??\n",
            "1 distractor <pad> alveoli démontre in many vertebrates this epithelium has a squamous surface It is composed of two types: blood vessels and tissues. There are no cells on the subcellular membrane that have a squamous surface They can be found in kidney tubul not enough distractors??\n",
            "1 distractor <pad> Clitellum Parapodia Setae Capillaries are present for locomotion and ingestion. Cadids have a distal nerve chord found in some examples. Chloride is used for external fertilization. Earthworms, Leeches and reghumides reside in the co not enough distractors??\n",
            "1 distractor <pad> secondary spermatocytes from primary sperm cells von spermatids aplicatii In spermatogenesis of man, meiotic division occurs during the production of Spermatogonium ingrijire foloseste a progeny to fi nish proaspatation induces puberty școliUpon not enough distractors??\n",
            "1 distractor <pad> They are the repeating contractile units present within a striated muscle cell. At the resting stage of myofi brils, only thick fi laments and actin in each sarcomere are present.During relaxation, the muscles will return to the original state. ingrijire occurs not enough distractors??\n",
            "1 distractor <pad> During the development of fruit, the ovary is converted to the pericarp. After double fertilization, the ovule matures into a seed. When it is placed on the stigma, the pollen grain grows down through the style of the carpel. It passes with the not enough distractors??\n",
            "1 distractor <pad> It is a method of reducing the volume of solid waste. it is used to reduce the volume of solid waste. composting allows separation of methane into separate containers and collected in separate containers. prevazut</s> not enough distractors??\n",
            "1 distractor <pad> Biodiversity provides inspiration in artistic activities like poetry, painting, dance etc. It promotes eco-tourism and helps to generate revenue by designing of zoological, botanical gardens, national parks etc.Asociația value: biodiversity is the most important environmental service value for human society</s> not enough distractors??\n",
            "1 distractor <pad> agrochemicals that wash away with rain water into the water bodies make the water rich in nutrients. algal blooms create oxygen- depleted zone for fi sh and other aquatic species. Ebony has a very slow growth rate. It takes many years to grow. proaspatation of tropical not enough distractors??\n",
            "1 distractor <pad> Proteins synthesized by ribosomes Produce transport vesesicles Promote the growth of own membrane By adding phospholipids, it is formed by internal membranes. Functions - It contains glycoproteins and carbohydrates. constructii</s> not enough distractors??\n",
            "1 distractor <pad> a large-scale change in the number of nucleotides occurring in a gene or large-scale changes in the number of nucleomes occur. small-scale changes occurring in the sequence of nucleutoids occurred at meioses. ingrijire occurs due to abnormal not enough distractors??\n",
            "1 distractor <pad> sporophytes are homosporous. Sporophytes have no vascular tissues and absorb water from the female gametophyte. Pogonatum is usually green but independent in both mosses. proaspatation with leafy plants produces leafy plants Signifi cant features of seedless not enough distractors??\n",
            "1 distractor <pad> It promotes synthesis of glucose from non-carbohydrate sources such as protein and fat. it stimulates the release of sodium ions in the urine, increasing blood pressure etc. agențiAsociația There is no hormone in the secretion of cortisol at heart rate. ingrijire are mainly not enough distractors??\n",
            "1 distractor <pad> EXTINCT Extinct when there is no reasonable doubt that the last individual has died. A taxon is extinct in the wild When it is known only to survive in cultivation, in captivity or as a naturalized population There are many threatened species and definie extinct except for those not enough distractors??\n",
            "1 distractor <pad> b is vulnerable and flagship species aplicatii A species are critically endangered. școlid by the red data book, an example of ‘ threatened species’ has been shown to be critically endangered. studențierated from the above categories indicate that it is facing a high risk of extinction in the wild. ingrijire</s> not enough distractors??\n",
            "1 distractor <pad> Dabei, the concentration of free sugar in sieve tube elements is always lower than in them. In some species, it requires active transport because sucrose is more concentrated in siev cells and companion cells than mesophyll cells. It is not a molecule that can be found in plants or not enough distractors??\n",
            "1 distractor <pad> Seperation is a clonal regeneration technique used in horticulture. It involves separation of plants and divisions from the plant to the seed, but not asexually or vegetatively. Both are genetically identical to the parent. ingrijire occurs when the seed is born not enough distractors??\n",
            "1 distractor <pad> It is a circulatory system in which blood is restricted to vessels and kept apart from the interstitial fluid surrounding cells. it can be found in vertebrates, animals and invertebrates such as Annelids or Arthropoda There are no known open circulatory systems among the not enough distractors??\n",
            "1 distractor <pad> Secretion of gastric juice is stimulated by parasympathetic nervous system ingrijire foloseste a ganglian Retriever</s> not enough distractors??\n",
            "1 distractor <pad> Transmission electron microscope (TEM) 3. Scattering electron microscopes (TEM) 2. Schema Electron microscope - The limitation of the resolution power by the wavelength of light. It passes through objective lens and then through glass lenses. ingrijire occurs at 1<unk>10 8 times.<extra_id_38></s> not enough distractors??\n",
            "1 distractor <pad> The two strands of DNA molecule are identical. ingrijire A, T and C is deoxyribose while in DNA it is deoxyribosiswhereas in DNA sugar molecule in RNA is deoxyriboseWährend in RNA glucose consists of A, T not enough distractors??\n",
            "1 distractor <pad> Presence of 12 pairs of ribs and sternum provides protection to the organs such as lungs. Préence of 12 pairs of ribs and sternus is fi xed to the sternium, but does not move during inspiration</s> not enough distractors??\n",
            "1 distractor <pad> phenotype is the basic unit by which genetic information is passed from parent to off spring. homozygous state occurs in all genes of an individual and its environment, but it can be heterozygous states occur in each gene or organism except for those of the diploid population that have at least not enough distractors??\n",
            "1 distractor <pad> Tetanus - Clostridium sp aplicatii Invasiveness is the ability of pathogens to invade tissues by overcoming host’ defense mechanisms. Phaeluronidasis destroys cell membranes and exotoxins</s> not enough distractors??\n",
            "1 distractor <pad> acetylcholine is the secretion of norepinephrine. Its depolarization phase is immediately followed by the hyperpolarization phaseWährend sympathetic nerves exit CNS only from the brain or the spinal cord as cranial nerves and parasapathetic nerve not enough distractors??\n",
            "1 distractor <pad> obligate aerobes, photoheterotrophs and photoheters are found in microorganisms. monococcus bacteria have diplobacillus but no synagogue particles Cyanobacteria exhibit a great variety of shapes und arrangements</s> not enough distractors??\n"
          ]
        }
      ]
    },
    {
      "cell_type": "markdown",
      "source": [
        "### Load references"
      ],
      "metadata": {
        "id": "_lwZWNxmyj6p"
      }
    },
    {
      "cell_type": "markdown",
      "source": [
        "### Evaluate"
      ],
      "metadata": {
        "id": "kzGoEsQ6zNiM"
      }
    },
    {
      "cell_type": "markdown",
      "source": [
        "### NLTK BLEU EVAL"
      ],
      "metadata": {
        "id": "b48KPJETFbFj"
      }
    },
    {
      "cell_type": "code",
      "source": [
        "from typing import List\n",
        "import nltk\n",
        "from nltk.tokenize import word_tokenize\n",
        "#nltk.download('punkt')\n",
        "from nltk.translate.bleu_score import sentence_bleu\n",
        "from nltk.translate.bleu_score import SmoothingFunction\n",
        "\n",
        "def calculate_nltk_bleu_single(references: List[str], hypothesis: str):\n",
        "\n",
        "    if hypothesis == '':\n",
        "        return 0, 0, 0, 0\n",
        "\n",
        "    # Word tokenize\n",
        "    refs_tokenized = list(map(lambda x: word_tokenize(x), references))\n",
        "    hyp_tokenized = word_tokenize(hypothesis)\n",
        "\n",
        "    # Smoothing function to avoid the cases where it resuts 1.0 in the cases when // Corpus/Sentence contains 0 counts of 2-gram overlaps. BLEU scores might be undesirable; use SmoothingFunction() //\n",
        "    chencherry = SmoothingFunction()\n",
        "\n",
        "    bleu_1 = sentence_bleu(refs_tokenized, hyp_tokenized, weights=(1, 0, 0, 0), smoothing_function=chencherry.method2)\n",
        "    bleu_2 = sentence_bleu(refs_tokenized, hyp_tokenized, weights=(0.5, 0.5, 0, 0), smoothing_function=chencherry.method2)\n",
        "    bleu_3 = sentence_bleu(refs_tokenized, hyp_tokenized, weights=(0.33, 0.33, 0.33, 0), smoothing_function=chencherry.method2)\n",
        "    bleu_4 = sentence_bleu(refs_tokenized, hyp_tokenized, weights=(0.25, 0.25, 0.25, 0.25), smoothing_function=chencherry.method2)\n",
        "\n",
        "    return bleu_1, bleu_2, bleu_3, bleu_4"
      ],
      "metadata": {
        "id": "DsOImq7xFdkK"
      },
      "execution_count": null,
      "outputs": []
    },
    {
      "cell_type": "code",
      "source": [
        "nltk.download('punkt')"
      ],
      "metadata": {
        "id": "EN_ceHfDFf7y"
      },
      "execution_count": null,
      "outputs": []
    },
    {
      "cell_type": "code",
      "source": [
        "# from typing import List\n",
        "# from nltk.translate.bleu_score import sentence_bleu\n",
        "# from tqdm import tqdm\n",
        "\n",
        "def calculate_nltk_bleu(references: List[List[str]], hypothesis: List[str]):\n",
        "\n",
        "    assert len(references) == len(hypothesis)\n",
        "\n",
        "    bleu_totals = [0, 0, 0, 0]\n",
        "\n",
        "    for i in tqdm(range(len(references))):\n",
        "        # Convert each element to string before joining\n",
        "        reference = \" \".join(str(item) for item in references[i])\n",
        "        curr_hypothesis = \" \".join(hypothesis[i])\n",
        "\n",
        "        curr_bleu = calculate_nltk_bleu_single(reference, curr_hypothesis)\n",
        "\n",
        "        bleu_totals[0] += curr_bleu[0]\n",
        "        bleu_totals[1] += curr_bleu[1]\n",
        "        bleu_totals[2] += curr_bleu[2]\n",
        "        bleu_totals[3] += curr_bleu[3]\n",
        "\n",
        "    return (round(bleu_totals[0] / len(references) * 100, 2),\n",
        "            round(bleu_totals[1] / len(references) * 100, 2),\n",
        "            round(bleu_totals[2] / len(references) * 100, 2),\n",
        "            round(bleu_totals[3] / len(references) * 100, 2))\n",
        "\n"
      ],
      "metadata": {
        "id": "Kp_ny015FhY8"
      },
      "execution_count": null,
      "outputs": []
    },
    {
      "cell_type": "code",
      "source": [
        "bleu_scores = []\n",
        "\n",
        "# Assuming reference_incorrects and reference_correct are lists of lists of strings\n",
        "bleu_scores.append(calculate_nltk_bleu(reference_incorrects, incorrect1s))\n",
        "bleu_scores.append(calculate_nltk_bleu(reference_incorrects, incorrect2s))\n",
        "bleu_scores.append(calculate_nltk_bleu(reference_incorrects, incorrect3s))\n",
        "bleu_scores.append(calculate_nltk_bleu(reference_incorrects, incorrect4s))\n",
        "\n",
        "bleu_scores.append(calculate_nltk_bleu([reference_correct], incorrect1s))\n",
        "bleu_scores.append(calculate_nltk_bleu([reference_correct], incorrect2s))\n",
        "bleu_scores.append(calculate_nltk_bleu([reference_correct], incorrect3s))\n",
        "bleu_scores.append(calculate_nltk_bleu([reference_correct], incorrect4s))\n",
        "\n",
        "print('###', 'bleu_1', 'bleu_2', 'bleu_3', 'bleu_4')\n",
        "labels = ['d1i', 'd2i', 'd3i', 'd4i', 'd1c', 'd2c', 'd3c', 'd4c']\n",
        "\n",
        "for i in range(len(bleu_scores)):\n",
        "    print(labels[i], \"{:<7}\".format(bleu_scores[i][0]), \"{:<7}\".format(bleu_scores[i][1]), \"{:<7}\".format(bleu_scores[i][2]), \"{:<7}\".format(bleu_scores[i][3]))\n"
      ],
      "metadata": {
        "id": "u-8XgjyuzOMf"
      },
      "execution_count": null,
      "outputs": []
    }
  ]
}