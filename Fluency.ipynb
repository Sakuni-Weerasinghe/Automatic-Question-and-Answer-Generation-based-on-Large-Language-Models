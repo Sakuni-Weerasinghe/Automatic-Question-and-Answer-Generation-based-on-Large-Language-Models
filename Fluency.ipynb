{
  "nbformat": 4,
  "nbformat_minor": 0,
  "metadata": {
    "colab": {
      "provenance": [],
      "gpuType": "T4",
      "authorship_tag": "ABX9TyPWrpe/6IWj6uO3V4QQ1kzs",
      "include_colab_link": true
    },
    "kernelspec": {
      "name": "python3",
      "display_name": "Python 3"
    },
    "language_info": {
      "name": "python"
    },
    "accelerator": "GPU"
  },
  "cells": [
    {
      "cell_type": "markdown",
      "metadata": {
        "id": "view-in-github",
        "colab_type": "text"
      },
      "source": [
        "<a href=\"https://colab.research.google.com/github/Sakuni-Weerasinghe/Automatic-Question-and-Answer-Generation-based-on-Large-Language-Models/blob/master/Fluency.ipynb\" target=\"_parent\"><img src=\"https://colab.research.google.com/assets/colab-badge.svg\" alt=\"Open In Colab\"/></a>"
      ]
    },
    {
      "cell_type": "code",
      "source": [
        "!pip install transformers\n",
        "!pip install pytorch-lightning"
      ],
      "metadata": {
        "id": "3Oi9QrXYqcVm"
      },
      "execution_count": null,
      "outputs": []
    },
    {
      "cell_type": "code",
      "source": [
        "from google.colab import drive\n",
        "drive.mount('/content/drive',force_remount=True)"
      ],
      "metadata": {
        "colab": {
          "base_uri": "https://localhost:8080/"
        },
        "id": "1k4-T7R9AKmR",
        "outputId": "dcb13120-f39a-4cb9-bbd7-cbf7483f9232"
      },
      "execution_count": null,
      "outputs": [
        {
          "output_type": "stream",
          "name": "stdout",
          "text": [
            "Mounted at /content/drive\n"
          ]
        }
      ]
    },
    {
      "cell_type": "code",
      "source": [
        "import random\n",
        "\n",
        "# Set the seed for reproducibility\n",
        "random.seed(42)\n",
        "\n",
        "# Read the dataset from the .txt file\n",
        "with open('data.txt', 'r', encoding='utf-8') as file:\n",
        "    lines = file.readlines()\n",
        "\n",
        "# Shuffle the lines randomly\n",
        "random.shuffle(lines)\n",
        "\n",
        "# Split the dataset into training and dev sets (e.g., 80% training, 20% dev)\n",
        "split_ratio = 0.8\n",
        "split_index = int(len(lines) * split_ratio)\n",
        "\n",
        "train_set = lines[:split_index]\n",
        "dev_set = lines[split_index:]\n",
        "\n",
        "# Write the training set to a new file\n",
        "with open('train.txt', 'w') as train_file:\n",
        "    train_file.writelines(train_set)\n",
        "\n",
        "# Write the dev set to a new file\n",
        "with open('dev.txt', 'w') as dev_file:\n",
        "    dev_file.writelines(dev_set)"
      ],
      "metadata": {
        "id": "bfYnw5kbDGzW"
      },
      "execution_count": null,
      "outputs": []
    },
    {
      "cell_type": "code",
      "source": [
        "!mv train.txt dev.txt drive/MyDrive/Research/QG_Reward/Discriminators/Fluency/Data"
      ],
      "metadata": {
        "id": "Frw04g_6DVqQ"
      },
      "execution_count": null,
      "outputs": []
    },
    {
      "cell_type": "code",
      "source": [
        "# https://drive.google.com/file/d/1-6Fi6cTheVCfzrR_RTtVblYcAK_gA42R/view?usp=sharing  fluency/dev\n",
        "# https://drive.google.com/file/d/1-2U39zxPc03k4BlKw9Wu8hXuKPimGvYZ/view?usp=sharing   fluency/train\n",
        "# https://drive.google.com/file/d/1D74YAZeqCfnhHnBgX_YO2FbR81VbYRmv/view?usp=sharing  fluency/run_model.py\n",
        "\n",
        "!gdown 'https://drive.google.com/file/d/1-6Fi6cTheVCfzrR_RTtVblYcAK_gA42R' -O dev.txt\n",
        "!gdown 'https://drive.google.com/file/d/1-2U39zxPc03k4BlKw9Wu8hXuKPimGvYZ' -O train.txt\n",
        "!gdown 'https://drive.google.com/file/d/1D74YAZeqCfnhHnBgX_YO2FbR81VbYRmv' -O run_model.py"
      ],
      "metadata": {
        "id": "2M8vE-HBqhYr"
      },
      "execution_count": null,
      "outputs": []
    },
    {
      "cell_type": "code",
      "source": [
        "import os\n",
        "\n",
        "# Update paths as needed\n",
        "DATAHOME = \"/content/datasets\"\n",
        "EXEHOME = \"/content/src\"\n",
        "MODELHOME = \"/content/models\"\n",
        "\n",
        "# Make directories\n",
        "os.makedirs(MODELHOME, exist_ok=True)\n",
        "\n",
        "# Change directory\n",
        "os.chdir(EXEHOME)\n",
        "\n",
        "# Set CUDA_VISIBLE_DEVICES\n",
        "os.environ[\"CUDA_VISIBLE_DEVICES\"] = \"0,1\"\n",
        "\n",
        "!python run_model.py \\\n",
        "       --config_name bert-base-uncased \\\n",
        "       --model_type bert \\\n",
        "       --output_dir {MODELHOME} \\\n",
        "       --overwrite_output_dir \\\n",
        "       --tokenizer_name bert-base-uncased \\\n",
        "       --train_data_file {DATAHOME}/train.txt --eval_data_file {DATAHOME}/dev.txt \\\n",
        "       --line_by_line \\\n",
        "       --learning_rate 2e-5 \\\n",
        "       --block_size 128 \\\n",
        "       --per_gpu_train_batch_size 16 \\\n",
        "       --per_gpu_eval_batch_size 8 \\\n",
        "       --do_train \\\n",
        "       --evaluate_during_training \\\n",
        "       --num_train_epochs 10"
      ],
      "metadata": {
        "id": "9mmpJZVmqjyF"
      },
      "execution_count": null,
      "outputs": []
    }
  ]
}